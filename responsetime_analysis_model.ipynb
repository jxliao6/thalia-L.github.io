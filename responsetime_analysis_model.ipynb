{
 "cells": [
  {
   "cell_type": "code",
   "execution_count": 1,
   "metadata": {
    "collapsed": true
   },
   "outputs": [],
   "source": [
    "import pandas as pd\n",
    "import pickle\n",
    "import numpy as np\n",
    "import nltk\n",
    "import re\n",
    "import itertools\n",
    "import bisect\n",
    "from datetime import datetime\n",
    "from nltk.tokenize.casual import TweetTokenizer\n",
    "from nltk.collocations import TrigramCollocationFinder\n",
    "\n",
    "#from pattern.en import parse,mood,sentiment,mood,modality\n",
    "#from pattern.en import pprint \n",
    "\n",
    "import sys\n",
    "\n",
    "from sklearn.model_selection import train_test_split\n",
    "from sklearn import linear_model\n",
    "from sklearn import svm\n",
    "from sklearn.linear_model import LassoCV,LogisticRegression,Lasso\n",
    "from sklearn.model_selection import KFold\n",
    "from sklearn.model_selection import GridSearchCV\n",
    "from sklearn.metrics import r2_score"
   ]
  },
  {
   "cell_type": "code",
   "execution_count": 2,
   "metadata": {
    "collapsed": true
   },
   "outputs": [],
   "source": [
    "with open(\"../responsedata/responsedata.txt\",'rb') as f:\n",
    "        testresp_bin= pickle.load(f) "
   ]
  },
  {
   "cell_type": "code",
   "execution_count": 3,
   "metadata": {
    "collapsed": true
   },
   "outputs": [],
   "source": [
    "X_features_df = pd.DataFrame(X_features)"
   ]
  },
  {
   "cell_type": "code",
   "execution_count": 8,
   "metadata": {
    "collapsed": true
   },
   "outputs": [],
   "source": [
    "X_features_df.columns = [' complexitytokens', 'token_num', 'chunk_str','pmiscore', 'polar', 'adj', 'mood_num', 'modal']"
   ]
  },
  {
   "cell_type": "code",
   "execution_count": 76,
   "metadata": {},
   "outputs": [
    {
     "data": {
      "text/plain": [
       "54706"
      ]
     },
     "execution_count": 76,
     "metadata": {},
     "output_type": "execute_result"
    }
   ],
   "source": [
    "X_features_df"
   ]
  },
  {
   "cell_type": "code",
   "execution_count": 75,
   "metadata": {},
   "outputs": [
    {
     "data": {
      "text/plain": [
       "54706"
      ]
     },
     "execution_count": 75,
     "metadata": {},
     "output_type": "execute_result"
    }
   ],
   "source": [
    "len(X_features_df[X_features_df['mood_num']==0.3])"
   ]
  },
  {
   "cell_type": "code",
   "execution_count": 23,
   "metadata": {},
   "outputs": [
    {
     "data": {
      "text/plain": [
       "361.48000524013213"
      ]
     },
     "execution_count": 23,
     "metadata": {},
     "output_type": "execute_result"
    }
   ],
   "source": [
    "y_descale = [y_num/60 for y_num in y]\n",
    "np.mean(y_descale)"
   ]
  },
  {
   "cell_type": "code",
   "execution_count": 110,
   "metadata": {},
   "outputs": [
    {
     "data": {
      "text/plain": [
       "array([[  1.00000000e+00,  -7.67557977e-17],\n",
       "       [ -7.67557977e-17,   1.00000000e+00]])"
      ]
     },
     "execution_count": 110,
     "metadata": {},
     "output_type": "execute_result"
    }
   ],
   "source": [
    "np.corrcoef(y_descale,X_features_df[''])#, 'token_num', 'polar', 'adj', 'modal']])"
   ]
  },
  {
   "cell_type": "code",
   "execution_count": 86,
   "metadata": {
    "collapsed": true
   },
   "outputs": [],
   "source": [
    "X_train, X_test, y_train, y_test = train_test_split(X_features_df[[' complexitytokens', 'token_num', 'polar', 'adj', 'modal']], y_descale, test_size=0.3, random_state=1)"
   ]
  },
  {
   "cell_type": "code",
   "execution_count": 87,
   "metadata": {},
   "outputs": [
    {
     "data": {
      "text/plain": [
       "(38294, 5)"
      ]
     },
     "execution_count": 87,
     "metadata": {},
     "output_type": "execute_result"
    }
   ],
   "source": [
    "X_train.shape"
   ]
  },
  {
   "cell_type": "markdown",
   "metadata": {},
   "source": [
    "clf = svm.SVC(kernel='linear', C=1).fit(X_train, y_train)\n",
    "clf.score(X_test, y_test)"
   ]
  },
  {
   "cell_type": "code",
   "execution_count": 88,
   "metadata": {},
   "outputs": [
    {
     "data": {
      "text/plain": [
       "Lasso(alpha=1, copy_X=True, fit_intercept=True, max_iter=1000,\n",
       "   normalize=False, positive=False, precompute=False, random_state=None,\n",
       "   selection='cyclic', tol=0.0001, warm_start=False)"
      ]
     },
     "execution_count": 88,
     "metadata": {},
     "output_type": "execute_result"
    }
   ],
   "source": [
    "reg = linear_model.Lasso(alpha = 1)\n",
    "reg.fit(X_train,y_train)"
   ]
  },
  {
   "cell_type": "code",
   "execution_count": 89,
   "metadata": {},
   "outputs": [
    {
     "data": {
      "text/plain": [
       "array([  0.        ,   0.15567853,  52.96095231,  13.86121642, -23.23719059])"
      ]
     },
     "execution_count": 89,
     "metadata": {},
     "output_type": "execute_result"
    }
   ],
   "source": [
    "reg.coef_"
   ]
  },
  {
   "cell_type": "code",
   "execution_count": 90,
   "metadata": {},
   "outputs": [
    {
     "data": {
      "text/plain": [
       "0.0035737804535741491"
      ]
     },
     "execution_count": 90,
     "metadata": {},
     "output_type": "execute_result"
    }
   ],
   "source": [
    "reg.score(X_train,y_train)\n",
    "reg.score(X_train,y_train)"
   ]
  },
  {
   "cell_type": "code",
   "execution_count": 92,
   "metadata": {
    "collapsed": true
   },
   "outputs": [],
   "source": [
    "from sklearn.model_selection import cross_val_score\n",
    "scores = cross_val_score(reg,X_features_df[[' complexitytokens', 'token_num', 'polar', 'adj', 'modal']],y_descale, cv=5)"
   ]
  },
  {
   "cell_type": "code",
   "execution_count": 93,
   "metadata": {},
   "outputs": [
    {
     "data": {
      "text/plain": [
       "array([-0.02259252, -0.0008257 , -0.00135114, -0.03484603, -0.00116891])"
      ]
     },
     "execution_count": 93,
     "metadata": {},
     "output_type": "execute_result"
    }
   ],
   "source": [
    "scores"
   ]
  },
  {
   "cell_type": "code",
   "execution_count": 91,
   "metadata": {},
   "outputs": [
    {
     "name": "stdout",
     "output_type": "stream",
     "text": [
      "0.00377744244156\n",
      "0.00357378045357\n"
     ]
    }
   ],
   "source": [
    "print (r2_score(y_test,reg.predict(X_test)))\n",
    "print (r2_score(y_train,reg.predict(X_train)))"
   ]
  },
  {
   "cell_type": "code",
   "execution_count": 32,
   "metadata": {
    "collapsed": true
   },
   "outputs": [],
   "source": [
    "lasso = Lasso(random_state=0)\n",
    "alphas = np.logspace(-4, -0.5, 30)\n",
    "\n",
    "tuned_parameters = [{'alpha': alphas}]\n",
    "n_folds = 3\n",
    "clf = GridSearchCV(lasso, tuned_parameters, cv=n_folds, refit=False)\n",
    "clf.fit(X_features_df[[' complexitytokens', 'token_num', 'polar', 'adj', 'mood_num', 'modal']], y_descale)\n",
    "scores = clf.cv_results_['mean_test_score']\n",
    "scores_std = clf.cv_results_['std_test_score']"
   ]
  },
  {
   "cell_type": "code",
   "execution_count": 33,
   "metadata": {},
   "outputs": [
    {
     "data": {
      "text/plain": [
       "array([ -2.02259101e-04,  -2.02197224e-04,  -2.02117538e-04,\n",
       "        -2.02008647e-04,  -2.01866364e-04,  -2.01683053e-04,\n",
       "        -2.01432396e-04,  -2.01104970e-04,  -2.00684126e-04,\n",
       "        -2.00106837e-04,  -1.99353605e-04,  -1.98387129e-04,\n",
       "        -1.97060382e-04,  -1.95327705e-04,  -1.93043259e-04,\n",
       "        -1.90029936e-04,  -1.86056434e-04,  -1.80818980e-04,\n",
       "        -1.73919329e-04,  -1.64836614e-04,  -1.52891743e-04,\n",
       "        -1.37203131e-04,  -1.16633029e-04,  -8.97249672e-05,\n",
       "        -5.46356710e-05,  -9.07044862e-06,   4.97580404e-05,\n",
       "         1.25141403e-04,   2.20596277e-04,   3.39534524e-04])"
      ]
     },
     "execution_count": 33,
     "metadata": {},
     "output_type": "execute_result"
    }
   ],
   "source": [
    "scores"
   ]
  },
  {
   "cell_type": "code",
   "execution_count": null,
   "metadata": {
    "collapsed": true
   },
   "outputs": [],
   "source": [
    "def loo_risk(X,y,regmod):\n",
    "    \"\"\"\n",
    "    Construct the leave-one-out square error risk for a regression model\n",
    "    \n",
    "    Input: design matrix, X, response vector, y, a regression model, regmod\n",
    "    Output: scalar LOO risk\n",
    "    \"\"\"\n",
    "    loo = LeaveOneOut()\n",
    "    loo_losses = []\n",
    "    for train_index, test_index in loo.split(X):\n",
    "        X_train, X_test = X[train_index], X[test_index]\n",
    "        y_train, y_test = y[train_index], y[test_index]\n",
    "        regmod.fit(X_train,y_train)\n",
    "        y_hat = regmod.predict(X_test)\n",
    "        loss = np.sum((y_hat - y_test)**2)\n",
    "        loo_losses.append(loss)\n",
    "    return np.mean(loo_losses)\n",
    "\n",
    "def emp_risk(X,y,regmod):\n",
    "    \"\"\"\n",
    "    Return the empirical risk for square error loss\n",
    "    \n",
    "    Input: design matrix, X, response vector, y, a regression model, regmod\n",
    "    Output: scalar empirical risk\n",
    "    \"\"\"\n",
    "    regmod.fit(X,y)\n",
    "    y_hat = regmod.predict(X)\n",
    "    return np.mean((y_hat - y)**2)"
   ]
  },
  {
   "cell_type": "markdown",
   "metadata": {},
   "source": [
    "# reply or not model analysis"
   ]
  },
  {
   "cell_type": "code",
   "execution_count": 3,
   "metadata": {
    "collapsed": true
   },
   "outputs": [],
   "source": [
    "def flatten_comments_dict(comments_dict):\n",
    "    flattened = []\n",
    "    projects = sorted(comments_dict.keys())\n",
    "    for project in projects:\n",
    "        comment_list = comments_dict[project]\n",
    "        for d in comment_list:\n",
    "            flattened.append(d)\n",
    "\n",
    "    return flattened\n"
   ]
  },
  {
   "cell_type": "code",
   "execution_count": 4,
   "metadata": {},
   "outputs": [],
   "source": [
    "flatten_testresp_bin = flatten_comments_dict(testresp_bin)\n",
    "flatten_testresp_bin_df = pd.DataFrame(flatten_testresp_bin).dropna()"
   ]
  },
  {
   "cell_type": "code",
   "execution_count": 5,
   "metadata": {},
   "outputs": [
    {
     "data": {
      "text/plain": [
       "dict_keys(['sass_sass', 'karpathy_convnetjs', 'facebook_relay', 'jquery_jquery-mobile', 'futurice_android-best-practices', 'segmentio_nightmare', 'slackhq_SlackTextViewController', 'minimaxir_big-list-of-naughty-strings', 'prakhar1989_awesome-courses', 'realm_realm-cocoa', 'junegunn_fzf', 'nodejitsu_node-http-proxy', 'node-inspector_node-inspector', 'loverajoel_jstips', 'sitaramc_gitolite', 'zxing_zxing', 'mozilla_pdf.js', 'kennethreitz_requests', 'sovereign_sovereign', 'svg_svgo', 'tobiasahlin_SpinKit', 'herrbischoff_awesome-osx-command-line', 'teamcapybara_capybara', 'scrapy_scrapy', 'jwagner_smartcrop.js', 'reactjs_react-redux', 'ptmt_react-native-macos', 'h5bp_Front-end-Developer-Interview-Questions', 'sindresorhus_awesome', 'jigish_slate', 'mperham_sidekiq', 't4t5_sweetalert', 'hashicorp_consul'])"
      ]
     },
     "execution_count": 5,
     "metadata": {},
     "output_type": "execute_result"
    }
   ],
   "source": [
    "testresp_bin.keys()"
   ]
  },
  {
   "cell_type": "code",
   "execution_count": 6,
   "metadata": {},
   "outputs": [
    {
     "data": {
      "text/plain": [
       "Index(['cumulative_mentions', 'datetime', 'degrees_between', 'issue_num',\n",
       "       'login', 'm_btwn_cent', 'm_deg_cent', 'm_indeg', 'm_indeg_cent',\n",
       "       'm_outdeg', 'mention_login', 'mentionlogin_commit', 'project',\n",
       "       'replied', 'resp_bin', 'resp_time', 'timedif', 'tk_body', 'top_n_class',\n",
       "       'top_n_metric_value', 'top_n_rank', 'top_n_rank_cutoff'],\n",
       "      dtype='object')"
      ]
     },
     "execution_count": 6,
     "metadata": {},
     "output_type": "execute_result"
    }
   ],
   "source": [
    "flatten_testresp_bin_df.columns\n",
    "#float(df['m_auth_score'][0])"
   ]
  },
  {
   "cell_type": "markdown",
   "metadata": {},
   "source": [
    "## Network Variable Description\n",
    "\n",
    "#### degree_centrality(G, nodes)\n",
    "Compute the degree centrality for nodes in a bipartite network.\n",
    "The degree centrality for a node v is the fraction of nodes connected to it.\n",
    "\n",
    "#### betweenness_centrality(G, nodes)\n",
    "Compute betweenness centrality for nodes in a bipartite network.\n",
    "Betweenness centrality of a node v is the sum of the fraction of all-pairs shortest paths that pass through v. Values of betweenness are normalized by the maximum possible value which for bipartite graphs is limited by the relative size of the two node sets.\n",
    "\n",
    "#### hits_numpy(G, normalized=True)\n",
    "Return HITS hubs and authorities values for nodes.\n",
    "The HITS algorithm computes two numbers for a node. Authorities estimates the node value based on the\n",
    "incoming links. Hubs estimates the node value based on outgoing links"
   ]
  },
  {
   "cell_type": "markdown",
   "metadata": {},
   "source": [
    "两个非邻接的成员间的相互作用依赖于网络中的其他成员，特别是位于两成员之间路径上的那些成员。它们对这两个非邻接成员的相互作用具有某种控制和制约作用。Freeman (1979)认为中间成员对路径两端的成员具有“更大的人际关系影响”。该指标的思想是：如果一个成员位于其他成员的多条最短路上，那么该成员就是核心成员，就具有较大的中间度核心性。Anthonisse(1971)[8]和Freeman(1977)[9]首先对该思想进行了量化。假设：①各条线路的权系数相等；②通讯过程中总是走最短路径；③当存在不止一条最短路时，每一条的使用概率相等；中间度核心性的本质是：网络中包含成员i 的所有最短路的条数占所有最短路条数的百分比。它表示成员i 的控制能力，或起着“gatekeeping”作用的概率。也可以理解为：成员j要到达网络中的所有其他成员，对成员i的依赖性的大小，或是成员i 对成员j 与网络中的其它成员进行相互作用的控制能力。"
   ]
  },
  {
   "cell_type": "code",
   "execution_count": 12,
   "metadata": {},
   "outputs": [],
   "source": [
    "y = flatten_testresp_bin_df[\"resp_bin\"]\n",
    "X = flatten_testresp_bin_df[[\"degrees_between\",\"m_btwn_cent\",\"m_deg_cent\",\"m_indeg\",\"m_indeg_cent\",\"m_outdeg\",\"replied\",'mentionlogin_commit']].astype(float)"
   ]
  },
  {
   "cell_type": "code",
   "execution_count": 110,
   "metadata": {
    "collapsed": true
   },
   "outputs": [],
   "source": [
    "data_time = flatten_testresp_bin_df[flatten_testresp_bin_df['tiemdif']!='NA']\n",
    "data_time.shape\n",
    "y_time = np.asarray(data_time['tiemdif'])\n",
    "x_time = np.asarray(data_time[[\"m_auth_score\",\"m_btwn_cent\",\"m_deg_cent\",\"m_hub_score\",\"m_indeg\",\"m_indeg_cent\",\"m_outdeg\",\"reply_before\"]].astype(float))"
   ]
  },
  {
   "cell_type": "code",
   "execution_count": 111,
   "metadata": {},
   "outputs": [
    {
     "data": {
      "text/plain": [
       "array([[  1.27520836e-01,   1.13095238e-01,   6.08333333e-01,\n",
       "          1.09162370e-01,   3.80000000e+01,   3.16666667e-01,\n",
       "          3.50000000e+01,   0.00000000e+00],\n",
       "       [  1.29833915e-01,   1.21625344e-01,   6.36363636e-01,\n",
       "          1.02566531e-01,   4.20000000e+01,   3.47107438e-01,\n",
       "          3.50000000e+01,   0.00000000e+00],\n",
       "       [ -0.00000000e+00,   0.00000000e+00,   7.81250000e-03,\n",
       "         -0.00000000e+00,   1.00000000e+00,   7.81250000e-03,\n",
       "          0.00000000e+00,   0.00000000e+00],\n",
       "       [ -6.55016202e-17,   3.52272727e-01,   1.00000000e+00,\n",
       "          8.09016994e-01,   6.00000000e+00,   5.00000000e-01,\n",
       "          6.00000000e+00,   0.00000000e+00],\n",
       "       [ -4.08985297e-16,   3.52272727e-01,   1.08333333e+00,\n",
       "          8.09016994e-01,   7.00000000e+00,   5.83333333e-01,\n",
       "          6.00000000e+00,   1.00000000e+00],\n",
       "       [  0.00000000e+00,   0.00000000e+00,   9.09090909e-02,\n",
       "          0.00000000e+00,   1.00000000e+00,   9.09090909e-02,\n",
       "          0.00000000e+00,   0.00000000e+00],\n",
       "       [ -0.00000000e+00,   0.00000000e+00,   9.61538462e-03,\n",
       "         -0.00000000e+00,   1.00000000e+00,   9.61538462e-03,\n",
       "          0.00000000e+00,   0.00000000e+00],\n",
       "       [  1.28689301e-01,   1.14807163e-01,   6.19834711e-01,\n",
       "          1.05759636e-01,   4.00000000e+01,   3.30578512e-01,\n",
       "          3.50000000e+01,   0.00000000e+00],\n",
       "       [  5.42650114e-02,   0.00000000e+00,   7.43801653e-02,\n",
       "         -0.00000000e+00,   9.00000000e+00,   7.43801653e-02,\n",
       "          0.00000000e+00,   0.00000000e+00],\n",
       "       [ -0.00000000e+00,   0.00000000e+00,   2.00000000e-02,\n",
       "         -0.00000000e+00,   1.00000000e+00,   1.00000000e-02,\n",
       "          1.00000000e+00,   0.00000000e+00],\n",
       "       [  1.00000000e+00,   0.00000000e+00,   1.00000000e+00,\n",
       "          0.00000000e+00,   1.00000000e+00,   1.00000000e+00,\n",
       "          0.00000000e+00,   0.00000000e+00],\n",
       "       [ -0.00000000e+00,   0.00000000e+00,   1.00000000e-02,\n",
       "         -0.00000000e+00,   1.00000000e+00,   1.00000000e-02,\n",
       "          0.00000000e+00,   0.00000000e+00],\n",
       "       [ -0.00000000e+00,   0.00000000e+00,   4.00000000e-02,\n",
       "          0.00000000e+00,   1.00000000e+00,   4.00000000e-02,\n",
       "          0.00000000e+00,   0.00000000e+00],\n",
       "       [  2.93675914e-04,   9.95154033e-03,   4.07407407e-01,\n",
       "          2.65132623e-01,   4.00000000e+00,   3.70370370e-02,\n",
       "          4.00000000e+01,   0.00000000e+00],\n",
       "       [  1.79743324e-01,   3.23076923e-01,   1.19230769e+00,\n",
       "          2.12329163e-01,   1.30000000e+01,   5.00000000e-01,\n",
       "          1.80000000e+01,   0.00000000e+00],\n",
       "       [ -0.00000000e+00,   0.00000000e+00,   1.26582278e-02,\n",
       "          0.00000000e+00,   1.00000000e+00,   1.26582278e-02,\n",
       "          0.00000000e+00,   0.00000000e+00],\n",
       "       [ -6.10799201e-19,   0.00000000e+00,   2.43902439e-02,\n",
       "          0.00000000e+00,   2.00000000e+00,   2.43902439e-02,\n",
       "          0.00000000e+00,   0.00000000e+00],\n",
       "       [ -6.10799201e-19,   0.00000000e+00,   2.43902439e-02,\n",
       "          0.00000000e+00,   2.00000000e+00,   2.43902439e-02,\n",
       "          0.00000000e+00,   0.00000000e+00],\n",
       "       [  1.34690494e-01,   0.00000000e+00,   7.69230769e-02,\n",
       "          0.00000000e+00,   1.00000000e+00,   7.69230769e-02,\n",
       "          0.00000000e+00,   0.00000000e+00],\n",
       "       [  6.74175439e-02,   0.00000000e+00,   4.76190476e-02,\n",
       "         -0.00000000e+00,   1.00000000e+00,   4.76190476e-02,\n",
       "          0.00000000e+00,   0.00000000e+00],\n",
       "       [  1.76149944e-02,   0.00000000e+00,   2.70270270e-02,\n",
       "          0.00000000e+00,   1.00000000e+00,   2.70270270e-02,\n",
       "          0.00000000e+00,   0.00000000e+00],\n",
       "       [  3.51406504e-02,   0.00000000e+00,   5.40540541e-02,\n",
       "          0.00000000e+00,   2.00000000e+00,   5.40540541e-02,\n",
       "          0.00000000e+00,   0.00000000e+00],\n",
       "       [  7.05267176e-02,   0.00000000e+00,   1.05263158e-01,\n",
       "         -0.00000000e+00,   4.00000000e+00,   1.05263158e-01,\n",
       "          0.00000000e+00,   0.00000000e+00],\n",
       "       [  2.54842826e-02,   0.00000000e+00,   3.12500000e-02,\n",
       "         -0.00000000e+00,   1.00000000e+00,   3.12500000e-02,\n",
       "          0.00000000e+00,   0.00000000e+00],\n",
       "       [  1.54508497e-01,   4.54545455e-02,   1.81818182e-01,\n",
       "          0.00000000e+00,   1.00000000e+00,   9.09090909e-02,\n",
       "          1.00000000e+00,   0.00000000e+00],\n",
       "       [  5.05584044e-02,   6.83760684e-02,   2.96296296e-01,\n",
       "          6.75395161e-02,   2.00000000e+00,   7.40740741e-02,\n",
       "          6.00000000e+00,   1.00000000e+00],\n",
       "       [  6.86094072e-02,   1.37677649e-02,   1.47286822e-01,\n",
       "          1.14427914e-02,   1.60000000e+01,   1.24031008e-01,\n",
       "          3.00000000e+00,   0.00000000e+00],\n",
       "       [  7.27163751e-02,   1.37677649e-02,   1.55038760e-01,\n",
       "          1.12865485e-02,   1.70000000e+01,   1.31782946e-01,\n",
       "          3.00000000e+00,   0.00000000e+00],\n",
       "       [  8.08467092e-02,   0.00000000e+00,   1.05263158e-01,\n",
       "         -0.00000000e+00,   2.00000000e+00,   1.05263158e-01,\n",
       "          0.00000000e+00,   0.00000000e+00],\n",
       "       [  1.26641547e-01,   0.00000000e+00,   1.60000000e-01,\n",
       "         -0.00000000e+00,   4.00000000e+00,   1.60000000e-01,\n",
       "          0.00000000e+00,   1.00000000e+00],\n",
       "       [  1.89617842e-01,   1.07526882e-03,   3.22580645e-01,\n",
       "          1.87859561e-02,   9.00000000e+00,   2.90322581e-01,\n",
       "          1.00000000e+00,   1.00000000e+00],\n",
       "       [  2.18007107e-01,   9.46969697e-04,   3.63636364e-01,\n",
       "          1.98440787e-02,   1.10000000e+01,   3.33333333e-01,\n",
       "          1.00000000e+00,   1.00000000e+00],\n",
       "       [  2.39831638e-02,   0.00000000e+00,   3.03030303e-02,\n",
       "         -0.00000000e+00,   1.00000000e+00,   3.03030303e-02,\n",
       "          0.00000000e+00,   0.00000000e+00],\n",
       "       [  4.16483496e-02,   0.00000000e+00,   6.06060606e-02,\n",
       "         -0.00000000e+00,   2.00000000e+00,   6.06060606e-02,\n",
       "          0.00000000e+00,   0.00000000e+00],\n",
       "       [  3.03710149e-02,   0.00000000e+00,   8.00000000e-02,\n",
       "         -0.00000000e+00,   2.00000000e+00,   8.00000000e-02,\n",
       "          0.00000000e+00,   0.00000000e+00],\n",
       "       [  5.00000000e-01,   0.00000000e+00,   5.00000000e-01,\n",
       "          0.00000000e+00,   2.00000000e+00,   5.00000000e-01,\n",
       "          0.00000000e+00,   0.00000000e+00],\n",
       "       [  1.06924998e-01,   0.00000000e+00,   6.25000000e-02,\n",
       "         -0.00000000e+00,   1.00000000e+00,   6.25000000e-02,\n",
       "          0.00000000e+00,   0.00000000e+00],\n",
       "       [  1.64731112e-01,   1.75000000e-02,   3.60000000e-01,\n",
       "          1.04844297e-01,   4.00000000e+00,   1.60000000e-01,\n",
       "          5.00000000e+00,   0.00000000e+00],\n",
       "       [  1.16691333e-01,   4.78830645e-02,   5.93750000e-01,\n",
       "          2.93128945e-01,   7.00000000e+00,   2.18750000e-01,\n",
       "          1.20000000e+01,   1.00000000e+00],\n",
       "       [  2.85626999e-02,   3.57142857e-02,   1.72413793e-01,\n",
       "         -0.00000000e+00,   4.00000000e+00,   1.37931034e-01,\n",
       "          1.00000000e+00,   0.00000000e+00],\n",
       "       [  0.00000000e+00,   4.72366556e-05,   1.36986301e-02,\n",
       "         -0.00000000e+00,   1.00000000e+00,   6.84931507e-03,\n",
       "          1.00000000e+00,   0.00000000e+00],\n",
       "       [  0.00000000e+00,   4.72366556e-05,   2.05479452e-02,\n",
       "         -0.00000000e+00,   2.00000000e+00,   1.36986301e-02,\n",
       "          1.00000000e+00,   1.00000000e+00],\n",
       "       [  2.82878345e-02,   0.00000000e+00,   6.45161290e-02,\n",
       "         -0.00000000e+00,   2.00000000e+00,   6.45161290e-02,\n",
       "          0.00000000e+00,   0.00000000e+00],\n",
       "       [  8.66937113e-03,   0.00000000e+00,   3.57142857e-02,\n",
       "         -0.00000000e+00,   1.00000000e+00,   3.57142857e-02,\n",
       "          0.00000000e+00,   0.00000000e+00],\n",
       "       [  2.50460051e-02,   0.00000000e+00,   7.14285714e-02,\n",
       "          0.00000000e+00,   2.00000000e+00,   7.14285714e-02,\n",
       "          0.00000000e+00,   1.00000000e+00],\n",
       "       [  0.00000000e+00,   0.00000000e+00,   7.14285714e-02,\n",
       "         -0.00000000e+00,   1.00000000e+00,   7.14285714e-02,\n",
       "          0.00000000e+00,   0.00000000e+00],\n",
       "       [ -4.23347513e-17,   2.68181818e-01,   9.09090909e-01,\n",
       "          8.09016994e-01,   4.00000000e+00,   3.63636364e-01,\n",
       "          6.00000000e+00,   0.00000000e+00],\n",
       "       [  1.44057835e-01,   3.09523810e-01,   1.28571429e+00,\n",
       "          2.85336879e-01,   1.50000000e+01,   5.35714286e-01,\n",
       "          2.10000000e+01,   1.00000000e+00],\n",
       "       [  8.96711221e-02,   5.91168091e-02,   6.29629630e-01,\n",
       "          3.61429291e-01,   6.00000000e+00,   2.22222222e-01,\n",
       "          1.10000000e+01,   0.00000000e+00],\n",
       "       [  1.53826360e-02,   0.00000000e+00,   2.85714286e-02,\n",
       "         -0.00000000e+00,   3.00000000e+00,   2.85714286e-02,\n",
       "          0.00000000e+00,   0.00000000e+00],\n",
       "       [  5.48466486e-02,   3.71900826e-03,   9.91735537e-02,\n",
       "          1.26456196e-02,   1.00000000e+01,   8.26446281e-02,\n",
       "          2.00000000e+00,   0.00000000e+00],\n",
       "       [ -0.00000000e+00,   7.34645901e-04,   1.08433735e-01,\n",
       "         -2.23971387e-38,   1.00000000e+00,   1.20481928e-02,\n",
       "          8.00000000e+00,   0.00000000e+00],\n",
       "       [  9.45036578e-03,   1.31448413e-02,   9.37500000e-02,\n",
       "         -0.00000000e+00,   5.00000000e+00,   7.81250000e-02,\n",
       "          1.00000000e+00,   0.00000000e+00],\n",
       "       [  1.28932470e-01,   1.21969697e-01,   6.28099174e-01,\n",
       "          1.04718778e-01,   4.10000000e+01,   3.38842975e-01,\n",
       "          3.50000000e+01,   0.00000000e+00],\n",
       "       [  5.31499810e-02,   3.65013774e-03,   8.26446281e-02,\n",
       "          1.79725058e-02,   8.00000000e+00,   6.61157025e-02,\n",
       "          2.00000000e+00,   0.00000000e+00],\n",
       "       [  0.00000000e+00,   0.00000000e+00,   6.75675676e-03,\n",
       "         -0.00000000e+00,   1.00000000e+00,   6.75675676e-03,\n",
       "          0.00000000e+00,   0.00000000e+00],\n",
       "       [  9.55337877e-02,   2.93560606e-01,   1.27272727e+00,\n",
       "          3.67640577e-01,   1.60000000e+01,   4.84848485e-01,\n",
       "          2.60000000e+01,   0.00000000e+00],\n",
       "       [  1.52446399e-01,   4.41666667e-02,   4.40000000e-01,\n",
       "          1.67645703e-01,   5.00000000e+00,   2.00000000e-01,\n",
       "          6.00000000e+00,   0.00000000e+00],\n",
       "       [  1.19956095e-01,   2.41477273e-02,   6.06060606e-01,\n",
       "          2.76796163e-01,   8.00000000e+00,   2.42424242e-01,\n",
       "          1.20000000e+01,   1.00000000e+00],\n",
       "       [  2.04790659e-02,   2.99783550e-01,   1.13636364e+00,\n",
       "          7.05135546e-01,   1.00000000e+01,   4.54545455e-01,\n",
       "          1.50000000e+01,   0.00000000e+00],\n",
       "       [ -0.00000000e+00,   2.16666667e-01,   1.16666667e+00,\n",
       "          7.67591879e-01,   3.00000000e+00,   5.00000000e-01,\n",
       "          4.00000000e+00,   0.00000000e+00],\n",
       "       [  0.00000000e+00,   0.00000000e+00,   7.09219858e-03,\n",
       "         -0.00000000e+00,   1.00000000e+00,   7.09219858e-03,\n",
       "          0.00000000e+00,   0.00000000e+00],\n",
       "       [ -0.00000000e+00,   0.00000000e+00,   1.31578947e-02,\n",
       "          0.00000000e+00,   1.00000000e+00,   1.31578947e-02,\n",
       "          0.00000000e+00,   0.00000000e+00],\n",
       "       [  5.32158327e-02,   2.42731049e-02,   6.29629630e-01,\n",
       "          3.86441534e-01,   1.40000000e+01,   1.29629630e-01,\n",
       "          5.40000000e+01,   0.00000000e+00],\n",
       "       [  6.57414541e-02,   0.00000000e+00,   1.66666667e-01,\n",
       "          0.00000000e+00,   1.00000000e+00,   1.66666667e-01,\n",
       "          0.00000000e+00,   0.00000000e+00],\n",
       "       [  5.31128874e-01,   0.00000000e+00,   6.00000000e-01,\n",
       "          0.00000000e+00,   3.00000000e+00,   6.00000000e-01,\n",
       "          0.00000000e+00,   0.00000000e+00],\n",
       "       [  0.00000000e+00,   0.00000000e+00,   3.44827586e-02,\n",
       "          0.00000000e+00,   1.00000000e+00,   3.44827586e-02,\n",
       "          0.00000000e+00,   0.00000000e+00],\n",
       "       [ -0.00000000e+00,   3.23232323e-02,   6.66666667e-02,\n",
       "          1.49883623e-02,   2.00000000e+00,   4.44444444e-02,\n",
       "          1.00000000e+00,   0.00000000e+00],\n",
       "       [  1.03848355e-01,   2.66666667e-01,   1.16000000e+00,\n",
       "          4.28084074e-01,   1.20000000e+01,   4.80000000e-01,\n",
       "          1.70000000e+01,   0.00000000e+00],\n",
       "       [  0.00000000e+00,   0.00000000e+00,   5.55555556e-02,\n",
       "          0.00000000e+00,   1.00000000e+00,   5.55555556e-02,\n",
       "          0.00000000e+00,   0.00000000e+00],\n",
       "       [  7.98658625e-04,   4.64619360e-02,   4.84615385e-01,\n",
       "          2.68714495e-01,   9.00000000e+00,   6.92307692e-02,\n",
       "          5.40000000e+01,   0.00000000e+00],\n",
       "       [ -4.92893887e-17,   3.68181818e-01,   1.00000000e+00,\n",
       "          8.09016994e-01,   5.00000000e+00,   4.54545455e-01,\n",
       "          6.00000000e+00,   0.00000000e+00],\n",
       "       [  7.92037332e-03,   0.00000000e+00,   2.47933884e-02,\n",
       "          1.78235014e-02,   1.00000000e+00,   8.26446281e-03,\n",
       "          2.00000000e+00,   0.00000000e+00],\n",
       "       [  1.57851384e-02,   0.00000000e+00,   3.30578512e-02,\n",
       "          1.77348517e-02,   2.00000000e+00,   1.65289256e-02,\n",
       "          2.00000000e+00,   1.00000000e+00],\n",
       "       [  7.59404319e-03,   4.49982693e-03,   3.70370370e-02,\n",
       "          9.58145892e-03,   3.00000000e+00,   2.77777778e-02,\n",
       "          1.00000000e+00,   0.00000000e+00],\n",
       "       [  1.25109171e-01,   1.32267442e-01,   7.20930233e-01,\n",
       "          1.30819677e-01,   4.60000000e+01,   3.56589147e-01,\n",
       "          4.70000000e+01,   0.00000000e+00],\n",
       "       [  1.33408477e-01,   1.32267442e-01,   7.28682171e-01,\n",
       "          1.25339548e-01,   4.70000000e+01,   3.64341085e-01,\n",
       "          4.70000000e+01,   0.00000000e+00],\n",
       "       [  1.62707997e-02,   0.00000000e+00,   2.38095238e-02,\n",
       "         -0.00000000e+00,   1.00000000e+00,   1.19047619e-02,\n",
       "          1.00000000e+00,   0.00000000e+00],\n",
       "       [  3.22181284e-02,   0.00000000e+00,   3.57142857e-02,\n",
       "         -0.00000000e+00,   2.00000000e+00,   2.38095238e-02,\n",
       "          1.00000000e+00,   0.00000000e+00],\n",
       "       [  6.38501712e-02,   2.39269643e-02,   6.38888889e-01,\n",
       "          3.55035945e-01,   1.50000000e+01,   1.38888889e-01,\n",
       "          5.40000000e+01,   0.00000000e+00],\n",
       "       [  7.60269041e-03,   1.73070267e-04,   2.77777778e-02,\n",
       "         -5.88036939e-21,   1.00000000e+00,   9.25925926e-03,\n",
       "          2.00000000e+00,   0.00000000e+00],\n",
       "       [  7.81150355e-02,   2.94219453e-03,   8.33333333e-02,\n",
       "         -0.00000000e+00,   8.00000000e+00,   7.40740741e-02,\n",
       "          1.00000000e+00,   0.00000000e+00],\n",
       "       [  8.75807151e-02,   3.76427830e-02,   1.11111111e-01,\n",
       "          2.29663815e-05,   1.00000000e+01,   9.25925926e-02,\n",
       "          2.00000000e+00,   1.00000000e+00],\n",
       "       [  1.02570003e-01,   3.76427830e-02,   1.38888889e-01,\n",
       "          4.36240961e-05,   1.20000000e+01,   1.11111111e-01,\n",
       "          3.00000000e+00,   1.00000000e+00],\n",
       "       [ -0.00000000e+00,   5.30694205e-03,   3.33333333e-01,\n",
       "          3.23610559e-01,   1.00000000e+00,   1.19047619e-02,\n",
       "          2.70000000e+01,   0.00000000e+00],\n",
       "       [ -0.00000000e+00,   5.30694205e-03,   3.69047619e-01,\n",
       "          3.26899685e-01,   2.00000000e+00,   2.38095238e-02,\n",
       "          2.90000000e+01,   1.00000000e+00],\n",
       "       [ -0.00000000e+00,   3.91836735e-02,   8.00000000e-02,\n",
       "          1.48599075e-02,   3.00000000e+00,   6.00000000e-02,\n",
       "          1.00000000e+00,   0.00000000e+00],\n",
       "       [ -0.00000000e+00,   9.70685304e-05,   2.94117647e-02,\n",
       "         -0.00000000e+00,   2.00000000e+00,   1.96078431e-02,\n",
       "          1.00000000e+00,   0.00000000e+00],\n",
       "       [ -0.00000000e+00,   0.00000000e+00,   1.85185185e-02,\n",
       "          0.00000000e+00,   1.00000000e+00,   1.85185185e-02,\n",
       "          0.00000000e+00,   0.00000000e+00],\n",
       "       [  2.05004778e-16,   3.64583333e-01,   1.06250000e+00,\n",
       "          8.50213632e-01,   8.00000000e+00,   5.00000000e-01,\n",
       "          9.00000000e+00,   0.00000000e+00],\n",
       "       [  6.53590444e-01,   3.64583333e-01,   1.12500000e+00,\n",
       "          4.25657314e-15,   9.00000000e+00,   5.62500000e-01,\n",
       "          9.00000000e+00,   0.00000000e+00],\n",
       "       [  9.01636971e-02,   2.41666667e-01,   1.08000000e+00,\n",
       "          4.62888020e-01,   1.10000000e+01,   4.40000000e-01,\n",
       "          1.60000000e+01,   1.00000000e+00],\n",
       "       [  1.50201808e-01,   2.87433155e-01,   1.35294118e+00,\n",
       "          2.88065546e-01,   1.80000000e+01,   5.29411765e-01,\n",
       "          2.80000000e+01,   1.00000000e+00],\n",
       "       [  7.05877494e-02,   0.00000000e+00,   1.36363636e-01,\n",
       "          0.00000000e+00,   3.00000000e+00,   1.36363636e-01,\n",
       "          0.00000000e+00,   0.00000000e+00],\n",
       "       [  1.35440013e-01,   0.00000000e+00,   2.00000000e-01,\n",
       "         -0.00000000e+00,   5.00000000e+00,   2.00000000e-01,\n",
       "          0.00000000e+00,   1.00000000e+00],\n",
       "       [  2.25707195e-01,   1.66666667e-03,   3.20000000e-01,\n",
       "          2.00393585e-02,   7.00000000e+00,   2.80000000e-01,\n",
       "          1.00000000e+00,   1.00000000e+00],\n",
       "       [  2.71926617e-01,   1.66666667e-03,   3.60000000e-01,\n",
       "          1.48959785e-02,   8.00000000e+00,   3.20000000e-01,\n",
       "          1.00000000e+00,   1.00000000e+00],\n",
       "       [  2.23813530e-01,   1.00806452e-03,   3.43750000e-01,\n",
       "          1.53692446e-02,   1.00000000e+01,   3.12500000e-01,\n",
       "          1.00000000e+00,   1.00000000e+00],\n",
       "       [  7.33417178e-03,   0.00000000e+00,   4.34782609e-02,\n",
       "         -0.00000000e+00,   1.00000000e+00,   4.34782609e-02,\n",
       "          0.00000000e+00,   0.00000000e+00],\n",
       "       [  6.50272429e-02,   1.24777184e-02,   1.17647059e-01,\n",
       "          0.00000000e+00,   3.00000000e+00,   8.82352941e-02,\n",
       "          1.00000000e+00,   1.00000000e+00],\n",
       "       [  5.44056881e-02,   1.12258953e-02,   1.07438017e-01,\n",
       "          1.25023026e-02,   1.10000000e+01,   9.09090909e-02,\n",
       "          2.00000000e+00,   0.00000000e+00],\n",
       "       [ -0.00000000e+00,   1.69222634e-02,   4.83870968e-02,\n",
       "          1.10917809e-02,   2.00000000e+00,   3.22580645e-02,\n",
       "          1.00000000e+00,   0.00000000e+00],\n",
       "       [ -5.07041043e-20,   7.09588093e-03,   3.79629630e-01,\n",
       "          2.64398351e-01,   3.00000000e+00,   2.77777778e-02,\n",
       "          3.80000000e+01,   0.00000000e+00],\n",
       "       [  3.11738207e-04,   4.71616476e-02,   4.53703704e-01,\n",
       "          2.79829923e-01,   5.00000000e+00,   4.62962963e-02,\n",
       "          4.40000000e+01,   0.00000000e+00],\n",
       "       [  3.07793355e-04,   4.71616476e-02,   4.72222222e-01,\n",
       "          2.85720834e-01,   6.00000000e+00,   5.55555556e-02,\n",
       "          4.50000000e+01,   1.00000000e+00],\n",
       "       [  2.98218486e-04,   4.71616476e-02,   5.00000000e-01,\n",
       "          3.00004937e-01,   7.00000000e+00,   6.48148148e-02,\n",
       "          4.70000000e+01,   1.00000000e+00],\n",
       "       [ -0.00000000e+00,   0.00000000e+00,   1.14942529e-02,\n",
       "         -0.00000000e+00,   1.00000000e+00,   1.14942529e-02,\n",
       "          0.00000000e+00,   0.00000000e+00]])"
      ]
     },
     "execution_count": 111,
     "metadata": {},
     "output_type": "execute_result"
    }
   ],
   "source": [
    "x_time"
   ]
  },
  {
   "cell_type": "code",
   "execution_count": 102,
   "metadata": {
    "collapsed": true
   },
   "outputs": [],
   "source": [
    "from sklearn import preprocessing\n",
    "le = preprocessing.LabelEncoder()\n",
    "#X['reply_before'] = \n",
    "#le.fit_transform(X['reply_before'])\n",
    "#X['reply_before']"
   ]
  },
  {
   "cell_type": "code",
   "execution_count": 13,
   "metadata": {
    "collapsed": true
   },
   "outputs": [],
   "source": [
    "X_train, X_test, y_train, y_test = train_test_split(X,y, test_size=0.3, random_state=1)\n",
    "#X_time_train, X_time_test, y_time_train, y_time_test = train_test_split(X,y_time, test_size=0.3, random_state=1)"
   ]
  },
  {
   "cell_type": "code",
   "execution_count": null,
   "metadata": {
    "collapsed": true
   },
   "outputs": [],
   "source": [
    "clf = svm.SVC(kernel='linear', C=1)\n",
    "clf.fit(X_train, y_train)\n",
    "clf.score(X_test, y_test)"
   ]
  },
  {
   "cell_type": "code",
   "execution_count": 46,
   "metadata": {},
   "outputs": [
    {
     "data": {
      "text/plain": [
       "array([[  8.26145835e-01,   0.00000000e+00,   7.36899722e-01, ...,\n",
       "          7.36899722e-01,   0.00000000e+00,   0.00000000e+00],\n",
       "       [  9.12661913e-02,  -1.97743415e-02,  -1.52110319e-02, ...,\n",
       "          4.56330957e-02,  -3.65064765e-01,   0.00000000e+00],\n",
       "       [  5.00000000e-01,   0.00000000e+00,   5.00000000e-01, ...,\n",
       "          5.00000000e-01,   0.00000000e+00,   0.00000000e+00],\n",
       "       ..., \n",
       "       [  0.00000000e+00,   0.00000000e+00,  -6.84899351e-03, ...,\n",
       "         -6.84899351e-03,   0.00000000e+00,  -9.99953053e-01],\n",
       "       [  0.00000000e+00,  -3.62441296e-03,  -2.43040212e-03, ...,\n",
       "         -1.21520106e-03,   0.00000000e+00,   0.00000000e+00],\n",
       "       [  0.00000000e+00,   4.72366556e-05,  -9.45205479e-03, ...,\n",
       "         -6.30136986e-03,   0.00000000e+00,   0.00000000e+00]])"
      ]
     },
     "execution_count": 46,
     "metadata": {},
     "output_type": "execute_result"
    }
   ],
   "source": [
    "clf.coef_"
   ]
  },
  {
   "cell_type": "code",
   "execution_count": 9,
   "metadata": {},
   "outputs": [
    {
     "name": "stderr",
     "output_type": "stream",
     "text": [
      "/Users/thalia/anaconda3/lib/python3.6/site-packages/statsmodels/compat/pandas.py:56: FutureWarning: The pandas.core.datetools module is deprecated and will be removed in a future version. Please use the pandas.tseries module instead.\n",
      "  from pandas.core import datetools\n"
     ]
    }
   ],
   "source": [
    "import statsmodels.api as sm\n",
    "from statsmodels.formula.api import Logit, probit, poisson, ols"
   ]
  },
  {
   "cell_type": "code",
   "execution_count": 19,
   "metadata": {},
   "outputs": [
    {
     "data": {
      "text/html": [
       "<div>\n",
       "<style>\n",
       "    .dataframe thead tr:only-child th {\n",
       "        text-align: right;\n",
       "    }\n",
       "\n",
       "    .dataframe thead th {\n",
       "        text-align: left;\n",
       "    }\n",
       "\n",
       "    .dataframe tbody tr th {\n",
       "        vertical-align: top;\n",
       "    }\n",
       "</style>\n",
       "<table border=\"1\" class=\"dataframe\">\n",
       "  <thead>\n",
       "    <tr style=\"text-align: right;\">\n",
       "      <th></th>\n",
       "      <th>degrees_between</th>\n",
       "      <th>m_btwn_cent</th>\n",
       "      <th>m_deg_cent</th>\n",
       "      <th>m_indeg</th>\n",
       "      <th>m_indeg_cent</th>\n",
       "      <th>m_outdeg</th>\n",
       "      <th>replied</th>\n",
       "      <th>mentionlogin_commit</th>\n",
       "    </tr>\n",
       "  </thead>\n",
       "  <tbody>\n",
       "    <tr>\n",
       "      <th>degrees_between</th>\n",
       "      <td>1.000000</td>\n",
       "      <td>0.077884</td>\n",
       "      <td>0.190554</td>\n",
       "      <td>0.609808</td>\n",
       "      <td>0.323103</td>\n",
       "      <td>0.167321</td>\n",
       "      <td>0.257920</td>\n",
       "      <td>0.217161</td>\n",
       "    </tr>\n",
       "    <tr>\n",
       "      <th>m_btwn_cent</th>\n",
       "      <td>0.077884</td>\n",
       "      <td>1.000000</td>\n",
       "      <td>0.319854</td>\n",
       "      <td>0.389812</td>\n",
       "      <td>0.227853</td>\n",
       "      <td>0.484738</td>\n",
       "      <td>0.004924</td>\n",
       "      <td>0.337821</td>\n",
       "    </tr>\n",
       "    <tr>\n",
       "      <th>m_deg_cent</th>\n",
       "      <td>0.190554</td>\n",
       "      <td>0.319854</td>\n",
       "      <td>1.000000</td>\n",
       "      <td>0.342119</td>\n",
       "      <td>0.874977</td>\n",
       "      <td>0.304617</td>\n",
       "      <td>0.185216</td>\n",
       "      <td>0.174518</td>\n",
       "    </tr>\n",
       "    <tr>\n",
       "      <th>m_indeg</th>\n",
       "      <td>0.609808</td>\n",
       "      <td>0.389812</td>\n",
       "      <td>0.342119</td>\n",
       "      <td>1.000000</td>\n",
       "      <td>0.442847</td>\n",
       "      <td>0.588874</td>\n",
       "      <td>0.189657</td>\n",
       "      <td>0.492170</td>\n",
       "    </tr>\n",
       "    <tr>\n",
       "      <th>m_indeg_cent</th>\n",
       "      <td>0.323103</td>\n",
       "      <td>0.227853</td>\n",
       "      <td>0.874977</td>\n",
       "      <td>0.442847</td>\n",
       "      <td>1.000000</td>\n",
       "      <td>0.145695</td>\n",
       "      <td>0.209303</td>\n",
       "      <td>0.194558</td>\n",
       "    </tr>\n",
       "    <tr>\n",
       "      <th>m_outdeg</th>\n",
       "      <td>0.167321</td>\n",
       "      <td>0.484738</td>\n",
       "      <td>0.304617</td>\n",
       "      <td>0.588874</td>\n",
       "      <td>0.145695</td>\n",
       "      <td>1.000000</td>\n",
       "      <td>0.103846</td>\n",
       "      <td>0.371820</td>\n",
       "    </tr>\n",
       "    <tr>\n",
       "      <th>replied</th>\n",
       "      <td>0.257920</td>\n",
       "      <td>0.004924</td>\n",
       "      <td>0.185216</td>\n",
       "      <td>0.189657</td>\n",
       "      <td>0.209303</td>\n",
       "      <td>0.103846</td>\n",
       "      <td>1.000000</td>\n",
       "      <td>0.086077</td>\n",
       "    </tr>\n",
       "    <tr>\n",
       "      <th>mentionlogin_commit</th>\n",
       "      <td>0.217161</td>\n",
       "      <td>0.337821</td>\n",
       "      <td>0.174518</td>\n",
       "      <td>0.492170</td>\n",
       "      <td>0.194558</td>\n",
       "      <td>0.371820</td>\n",
       "      <td>0.086077</td>\n",
       "      <td>1.000000</td>\n",
       "    </tr>\n",
       "  </tbody>\n",
       "</table>\n",
       "</div>"
      ],
      "text/plain": [
       "                     degrees_between  m_btwn_cent  m_deg_cent   m_indeg  \\\n",
       "degrees_between             1.000000     0.077884    0.190554  0.609808   \n",
       "m_btwn_cent                 0.077884     1.000000    0.319854  0.389812   \n",
       "m_deg_cent                  0.190554     0.319854    1.000000  0.342119   \n",
       "m_indeg                     0.609808     0.389812    0.342119  1.000000   \n",
       "m_indeg_cent                0.323103     0.227853    0.874977  0.442847   \n",
       "m_outdeg                    0.167321     0.484738    0.304617  0.588874   \n",
       "replied                     0.257920     0.004924    0.185216  0.189657   \n",
       "mentionlogin_commit         0.217161     0.337821    0.174518  0.492170   \n",
       "\n",
       "                     m_indeg_cent  m_outdeg   replied  mentionlogin_commit  \n",
       "degrees_between          0.323103  0.167321  0.257920             0.217161  \n",
       "m_btwn_cent              0.227853  0.484738  0.004924             0.337821  \n",
       "m_deg_cent               0.874977  0.304617  0.185216             0.174518  \n",
       "m_indeg                  0.442847  0.588874  0.189657             0.492170  \n",
       "m_indeg_cent             1.000000  0.145695  0.209303             0.194558  \n",
       "m_outdeg                 0.145695  1.000000  0.103846             0.371820  \n",
       "replied                  0.209303  0.103846  1.000000             0.086077  \n",
       "mentionlogin_commit      0.194558  0.371820  0.086077             1.000000  "
      ]
     },
     "execution_count": 19,
     "metadata": {},
     "output_type": "execute_result"
    }
   ],
   "source": [
    "X.corr()"
   ]
  },
  {
   "cell_type": "code",
   "execution_count": 10,
   "metadata": {
    "collapsed": true
   },
   "outputs": [],
   "source": [
    "from scipy import stats\n",
    "stats.chisqprob = lambda chisq, df: stats.chi2.sf(chisq, df)"
   ]
  },
  {
   "cell_type": "code",
   "execution_count": 14,
   "metadata": {},
   "outputs": [
    {
     "name": "stdout",
     "output_type": "stream",
     "text": [
      "Optimization terminated successfully.\n",
      "         Current function value: 0.664006\n",
      "         Iterations 5\n",
      "                           Logit Regression Results                           \n",
      "==============================================================================\n",
      "Dep. Variable:               resp_bin   No. Observations:                28362\n",
      "Model:                          Logit   Df Residuals:                    28354\n",
      "Method:                           MLE   Df Model:                            7\n",
      "Date:                Wed, 14 Feb 2018   Pseudo R-squ.:                 0.01079\n",
      "Time:                        18:03:37   Log-Likelihood:                -18833.\n",
      "converged:                       True   LL-Null:                       -19038.\n",
      "                                        LLR p-value:                 1.202e-84\n",
      "=======================================================================================\n",
      "                          coef    std err          z      P>|z|      [0.025      0.975]\n",
      "---------------------------------------------------------------------------------------\n",
      "degrees_between         0.0003   6.24e-05      5.409      0.000       0.000       0.000\n",
      "m_btwn_cent             2.6276      0.165     15.968      0.000       2.305       2.950\n",
      "m_deg_cent              0.0635      0.015      4.277      0.000       0.034       0.093\n",
      "m_indeg                -0.0001   4.14e-05     -3.121      0.002      -0.000   -4.81e-05\n",
      "m_indeg_cent           -0.1106      0.026     -4.196      0.000      -0.162      -0.059\n",
      "m_outdeg             7.786e-05   3.42e-05      2.280      0.023    1.09e-05       0.000\n",
      "replied                 0.2215      0.020     10.859      0.000       0.182       0.261\n",
      "mentionlogin_commit  4.144e-06   1.98e-05      0.209      0.834   -3.47e-05     4.3e-05\n",
      "=======================================================================================\n"
     ]
    }
   ],
   "source": [
    "sm_log = Logit(y_train,X_train).fit()\n",
    "print(sm_log.summary())"
   ]
  },
  {
   "cell_type": "code",
   "execution_count": 113,
   "metadata": {},
   "outputs": [
    {
     "ename": "PatsyError",
     "evalue": "model is missing required outcome variables",
     "output_type": "error",
     "traceback": [
      "\u001b[0;31m---------------------------------------------------------------------------\u001b[0m",
      "\u001b[0;31mPatsyError\u001b[0m                                Traceback (most recent call last)",
      "\u001b[0;32m<ipython-input-113-c86fc66578eb>\u001b[0m in \u001b[0;36m<module>\u001b[0;34m()\u001b[0m\n\u001b[0;32m----> 1\u001b[0;31m \u001b[0msm_log_time\u001b[0m \u001b[0;34m=\u001b[0m \u001b[0mols\u001b[0m\u001b[0;34m(\u001b[0m\u001b[0my_time\u001b[0m\u001b[0;34m,\u001b[0m\u001b[0mx_time\u001b[0m\u001b[0;34m)\u001b[0m\u001b[0;34m.\u001b[0m\u001b[0mfit\u001b[0m\u001b[0;34m(\u001b[0m\u001b[0;34m)\u001b[0m\u001b[0;34m\u001b[0m\u001b[0m\n\u001b[0m\u001b[1;32m      2\u001b[0m \u001b[0mprint\u001b[0m\u001b[0;34m(\u001b[0m\u001b[0msm_log_time\u001b[0m\u001b[0;34m.\u001b[0m\u001b[0msummary\u001b[0m\u001b[0;34m(\u001b[0m\u001b[0;34m)\u001b[0m\u001b[0;34m)\u001b[0m\u001b[0;34m\u001b[0m\u001b[0m\n",
      "\u001b[0;32m~/anaconda3/lib/python3.6/site-packages/statsmodels/base/model.py\u001b[0m in \u001b[0;36mfrom_formula\u001b[0;34m(cls, formula, data, subset, drop_cols, *args, **kwargs)\u001b[0m\n\u001b[1;32m    153\u001b[0m \u001b[0;34m\u001b[0m\u001b[0m\n\u001b[1;32m    154\u001b[0m         tmp = handle_formula_data(data, None, formula, depth=eval_env,\n\u001b[0;32m--> 155\u001b[0;31m                                   missing=missing)\n\u001b[0m\u001b[1;32m    156\u001b[0m         \u001b[0;34m(\u001b[0m\u001b[0;34m(\u001b[0m\u001b[0mendog\u001b[0m\u001b[0;34m,\u001b[0m \u001b[0mexog\u001b[0m\u001b[0;34m)\u001b[0m\u001b[0;34m,\u001b[0m \u001b[0mmissing_idx\u001b[0m\u001b[0;34m,\u001b[0m \u001b[0mdesign_info\u001b[0m\u001b[0;34m)\u001b[0m \u001b[0;34m=\u001b[0m \u001b[0mtmp\u001b[0m\u001b[0;34m\u001b[0m\u001b[0m\n\u001b[1;32m    157\u001b[0m \u001b[0;34m\u001b[0m\u001b[0m\n",
      "\u001b[0;32m~/anaconda3/lib/python3.6/site-packages/statsmodels/formula/formulatools.py\u001b[0m in \u001b[0;36mhandle_formula_data\u001b[0;34m(Y, X, formula, depth, missing)\u001b[0m\n\u001b[1;32m     66\u001b[0m         \u001b[0;32melse\u001b[0m\u001b[0;34m:\u001b[0m\u001b[0;34m\u001b[0m\u001b[0m\n\u001b[1;32m     67\u001b[0m             result = dmatrices(formula, Y, depth, return_type='dataframe',\n\u001b[0;32m---> 68\u001b[0;31m                                NA_action=na_action)\n\u001b[0m\u001b[1;32m     69\u001b[0m \u001b[0;34m\u001b[0m\u001b[0m\n\u001b[1;32m     70\u001b[0m     \u001b[0;31m# if missing == 'raise' there's not missing_mask\u001b[0m\u001b[0;34m\u001b[0m\u001b[0;34m\u001b[0m\u001b[0m\n",
      "\u001b[0;32m~/anaconda3/lib/python3.6/site-packages/patsy/highlevel.py\u001b[0m in \u001b[0;36mdmatrices\u001b[0;34m(formula_like, data, eval_env, NA_action, return_type)\u001b[0m\n\u001b[1;32m    310\u001b[0m                                       NA_action, return_type)\n\u001b[1;32m    311\u001b[0m     \u001b[0;32mif\u001b[0m \u001b[0mlhs\u001b[0m\u001b[0;34m.\u001b[0m\u001b[0mshape\u001b[0m\u001b[0;34m[\u001b[0m\u001b[0;36m1\u001b[0m\u001b[0;34m]\u001b[0m \u001b[0;34m==\u001b[0m \u001b[0;36m0\u001b[0m\u001b[0;34m:\u001b[0m\u001b[0;34m\u001b[0m\u001b[0m\n\u001b[0;32m--> 312\u001b[0;31m         \u001b[0;32mraise\u001b[0m \u001b[0mPatsyError\u001b[0m\u001b[0;34m(\u001b[0m\u001b[0;34m\"model is missing required outcome variables\"\u001b[0m\u001b[0;34m)\u001b[0m\u001b[0;34m\u001b[0m\u001b[0m\n\u001b[0m\u001b[1;32m    313\u001b[0m     \u001b[0;32mreturn\u001b[0m \u001b[0;34m(\u001b[0m\u001b[0mlhs\u001b[0m\u001b[0;34m,\u001b[0m \u001b[0mrhs\u001b[0m\u001b[0;34m)\u001b[0m\u001b[0;34m\u001b[0m\u001b[0m\n",
      "\u001b[0;31mPatsyError\u001b[0m: model is missing required outcome variables"
     ]
    }
   ],
   "source": [
    "sm_log_time = ols(y_time,x_time).fit()\n",
    "print(sm_log_time.summary())"
   ]
  },
  {
   "cell_type": "code",
   "execution_count": 21,
   "metadata": {},
   "outputs": [
    {
     "name": "stdout",
     "output_type": "stream",
     "text": [
      "score: 0.605627\n",
      "[[  3.11239367e-04   8.64575813e-01   8.67333053e-02  -8.43197815e-05\n",
      "   -1.34057258e-01   1.41213072e-04   1.05927933e-01   2.48714880e-05]]\n",
      "predicted accuracy: 0.605627\n"
     ]
    }
   ],
   "source": [
    "reglog = LogisticRegression()\n",
    "reglog.fit(X_train,y_train)\n",
    "print(\"score: %f\" %reglog.score(X_test, y_test))\n",
    "print(reglog.coef_)\n",
    "y_pred = reglog.predict(X_test)\n",
    "accuracy = np.sum(y_pred == y_test) / y_test.shape[0]\n",
    "print(\"predicted accuracy: %f\" %accuracy)"
   ]
  },
  {
   "cell_type": "code",
   "execution_count": 57,
   "metadata": {},
   "outputs": [
    {
     "data": {
      "image/png": "[encoded data removed]",
      "text/plain": [
       "<matplotlib.figure.Figure at 0x11097c160>"
      ]
     },
     "metadata": {},
     "output_type": "display_data"
    }
   ],
   "source": [
    "from sklearn.naive_bayes import GaussianNB\n",
    "from sklearn.linear_model import LogisticRegression\n",
    "from sklearn.ensemble import RandomForestClassifier\n",
    "from sklearn.svm import LinearSVC\n",
    "from sklearn.calibration import calibration_curve\n",
    "import matplotlib.pyplot as plt\n",
    "\n",
    "lr = LogisticRegression()\n",
    "gnb = GaussianNB()\n",
    "svc = LinearSVC(C=1.0)\n",
    "rfc = RandomForestClassifier(n_estimators=100)\n",
    "\n",
    "\n",
    "# #############################################################################\n",
    "# Plot calibration plots\n",
    "\n",
    "plt.figure(figsize=(10, 10))\n",
    "ax1 = plt.subplot2grid((3, 1), (0, 0), rowspan=2)\n",
    "ax2 = plt.subplot2grid((3, 1), (2, 0))\n",
    "\n",
    "ax1.plot([0, 1], [0, 1], \"k:\", label=\"Perfectly calibrated\")\n",
    "for clf, name in [(lr, 'Logistic'),\n",
    "                  (gnb, 'Naive Bayes'),\n",
    "                  (svc, 'Support Vector Classification'),\n",
    "                  (rfc, 'Random Forest')]:\n",
    "    clf.fit(X_train, y_train)\n",
    "    if hasattr(clf, \"predict_proba\"):\n",
    "        prob_pos = clf.predict_proba(X_test)[:, 1]\n",
    "    else:  # use decision function\n",
    "        prob_pos = clf.decision_function(X_test)\n",
    "        prob_pos = \\\n",
    "            (prob_pos - prob_pos.min()) / (prob_pos.max() - prob_pos.min())\n",
    "    fraction_of_positives, mean_predicted_value = \\\n",
    "        calibration_curve(y_test, prob_pos, n_bins=10)\n",
    "\n",
    "    ax1.plot(mean_predicted_value, fraction_of_positives, \"s-\",\n",
    "             label=\"%s\" % (name, ))\n",
    "\n",
    "    ax2.hist(prob_pos, range=(0, 1), bins=10, label=name,\n",
    "             histtype=\"step\", lw=2)\n",
    "\n",
    "ax1.set_ylabel(\"Fraction of positives\")\n",
    "ax1.set_ylim([-0.05, 1.05])\n",
    "ax1.legend(loc=\"lower right\")\n",
    "ax1.set_title('Calibration plots  (reliability curve)')\n",
    "\n",
    "ax2.set_xlabel(\"Mean predicted value\")\n",
    "ax2.set_ylabel(\"Count\")\n",
    "ax2.legend(loc=\"upper center\", ncol=2)\n",
    "\n",
    "plt.tight_layout()\n",
    "plt.show()"
   ]
  },
  {
   "cell_type": "code",
   "execution_count": null,
   "metadata": {
    "collapsed": true
   },
   "outputs": [],
   "source": []
  },
  {
   "cell_type": "code",
   "execution_count": 59,
   "metadata": {},
   "outputs": [
    {
     "data": {
      "text/plain": [
       "0.44957983193277312"
      ]
     },
     "execution_count": 59,
     "metadata": {},
     "output_type": "execute_result"
    }
   ],
   "source": [
    "sum(y)/len(y)"
   ]
  },
  {
   "cell_type": "code",
   "execution_count": null,
   "metadata": {
    "collapsed": true
   },
   "outputs": [],
   "source": []
  }
 ],
 "metadata": {
  "kernelspec": {
   "display_name": "Python 3",
   "language": "python",
   "name": "python3"
  },
  "language_info": {
   "codemirror_mode": {
    "name": "ipython",
    "version": 3
   },
   "file_extension": ".py",
   "mimetype": "text/x-python",
   "name": "python",
   "nbconvert_exporter": "python",
   "pygments_lexer": "ipython3",
   "version": "3.6.3"
  }
 },
 "nbformat": 4,
 "nbformat_minor": 2
}
