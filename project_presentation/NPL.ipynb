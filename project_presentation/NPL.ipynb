{
 "cells": [
  {
   "cell_type": "markdown",
   "metadata": {},
   "source": [
    "# Web scrawl and NPL\n",
    "\n",
    "* scrape text from [The California Aggie](https://theaggie.org/) and then analyze the text.\n",
    "\n",
    "The Aggie is organized by category into article lists. For example, there's a [Campus News](https://theaggie.org/campus/) list, [Arts & Culture](https://theaggie.org/arts/) list, and [Sports](https://theaggie.org/sports/) list. Notice that each list has multiple pages, with a maximum of 15 articles per page.\n"
   ]
  },
  {
   "cell_type": "code",
   "execution_count": 1,
   "metadata": {
    "collapsed": false
   },
   "outputs": [],
   "source": [
    "import requests\n",
    "import requests_cache\n",
    "import lxml.html as lx\n",
    "import pandas as pd\n",
    "import os.path\n",
    "\n",
    "requests_cache.install_cache('cache')"
   ]
  },
  {
   "cell_type": "code",
   "execution_count": 2,
   "metadata": {
    "collapsed": false
   },
   "outputs": [],
   "source": [
    "def extract_url(url,page=\"1\"):\n",
    "    \"\"\"extract urls from the Aggie website\n",
    "    input:\n",
    "        url: the URL of the article list\n",
    "        page: the page of article list, default is 1\n",
    "        \n",
    "    output:\n",
    "        a list of aricle URLs \n",
    "    \"\"\"\n",
    "    page = str(page)\n",
    "    url = os.path.join(url, \"page\",page)\n",
    "    response = requests.get(url)\n",
    "    html = lx.fromstring(response.text)\n",
    "    href = html.xpath(\"//div[@class='entry-content-media']/a/@href\")\n",
    "    \n",
    "    return href"
   ]
  },
  {
   "cell_type": "code",
   "execution_count": 327,
   "metadata": {
    "collapsed": false,
    "scrolled": true
   },
   "outputs": [
    {
     "data": {
      "text/plain": [
       "['https://theaggie.org/2017/01/23/napolitano-to-reinforce-tentative-plans-to-expand-uc-davis-into-sacramento/',\n",
       " 'https://theaggie.org/2017/01/23/former-chancellor-turns-down-feminist-leadership-role-at-uc-davis/',\n",
       " 'https://theaggie.org/2017/01/22/sierra-nevada-brewing-owners-gift-2-million-to-uc-davis-program/',\n",
       " 'https://theaggie.org/2017/01/22/interim-chancellor-hexter-uc-leaders-sign-letter-to-urge-action-against-climate-change/',\n",
       " 'https://theaggie.org/2017/01/22/california-schools-press-donald-trump-to-continue-daca-as-president/',\n",
       " 'https://theaggie.org/2017/01/22/uc-wide-walkout-teach-ins-on-trumps-inauguration-day/',\n",
       " 'https://theaggie.org/2017/01/20/protests-erupt-at-milo-yiannopoulos-event/',\n",
       " 'https://theaggie.org/2017/01/20/student-organizers-host-changethe-conversation-event/',\n",
       " 'https://theaggie.org/2017/01/19/uc-president-janet-napolitano-hospitalized/',\n",
       " 'https://theaggie.org/2017/01/17/uc-davis-appoints-new-chief-of-nursing-and-patient-care-services/',\n",
       " 'https://theaggie.org/2017/01/16/student-regent-recruitment-for-the-2018-2019-school-year-begins/',\n",
       " 'https://theaggie.org/2017/01/15/russell-boulevard-intramural-fields-withdrawn-from-2017-2027-long-range-development-plan/',\n",
       " 'https://theaggie.org/2017/01/15/ucs-receive-record-breaking-number-of-applicants/',\n",
       " 'https://theaggie.org/2017/01/14/davis-college-republicans-club-leads-protest-against-cancellation-of-milo-yiannopoulos-event/',\n",
       " 'https://theaggie.org/2017/01/13/breaking-news-milo-yiannopoulos-event-cancelled/']"
      ]
     },
     "execution_count": 327,
     "metadata": {},
     "output_type": "execute_result"
    }
   ],
   "source": [
    "extract_url(\"https://theaggie.org/campus\",\"4\")"
   ]
  },
  {
   "cell_type": "code",
   "execution_count": 419,
   "metadata": {
    "collapsed": false
   },
   "outputs": [],
   "source": [
    "def extract_content(url):\n",
    "    \"\"\"extract the main text from an website article\n",
    "    \n",
    "    input:\n",
    "        url: the URL of the article\n",
    "        \n",
    "    output:\n",
    "        url: the url of the article\n",
    "        title: the title of the article\n",
    "        text: main content of the article\n",
    "        author: author of the article        \n",
    "    \"\"\"\n",
    "    page = requests.get(url)\n",
    "    html = lx.fromstring(page.text)\n",
    "    article = html.xpath(\"//main/article\")[0]\n",
    "    #if len(article)==1:\n",
    "    title = article.xpath(\"//header/h1\")[0]\n",
    "    titlecontent = title.text_content()\n",
    "    textlist = [x.text_content().strip() for x in article.xpath(\"//article//p\")]\n",
    "    try:\n",
    "        text = \" \".join(textlist).translate({ 0x2018:0x27, 0x2019:0x27, 0x201C:0x22, 0x201D:0x22, 0x2026:0x20 })\n",
    "    except:\n",
    "        text = \" \".join(textlist)\n",
    "    authorstart = text.lower().find(\"written by:\")\n",
    "    author = text[authorstart:]\n",
    "    textcontent = text[:authorstart]\n",
    "    return {\"author\": author, \"text\": textcontent, \"title\":titlecontent,\"url\":url}"
   ]
  },
  {
   "cell_type": "code",
   "execution_count": 420,
   "metadata": {
    "collapsed": false
   },
   "outputs": [
    {
     "data": {
      "text/plain": [
       "{'author': u'Written By: Sam Solomon \\u2014 city@theaggie.org',\n",
       " 'text': u'Nov. 7 \"Subject stated our pizza is ready and that we were supposed to order him food\" Nov. 7 \"Family members punching one another and trying to choke hold\" Nov. 7 \"Unknown male subject hit the RP\\'s daughter in the head with a golf ball\" Nov. 7 \"Two HBD subjects threw tacos and smashed the RP\\'s window\" Nov. 8 \"Fairly large tumbleweed blocking right lane\" ',\n",
       " 'title': 'Police Logs',\n",
       " 'url': 'https://theaggie.org/2016/11/22/police-logs-4/'}"
      ]
     },
     "execution_count": 420,
     "metadata": {},
     "output_type": "execute_result"
    }
   ],
   "source": [
    "extract_content(\"https://theaggie.org/2016/11/22/police-logs-4/\")"
   ]
  },
  {
   "cell_type": "code",
   "execution_count": 421,
   "metadata": {
    "collapsed": false
   },
   "outputs": [
    {
     "data": {
      "text/plain": [
       "{'author': u'Written By: Bianca Antunez \\xa0\\u2014\\xa0city@theaggie.org',\n",
       " 'text': u'Davis residents create financial model to make city\\'s financial state more transparent To increase transparency between the city\\'s financial situation and the community, three residents created a model called Project Toto which aims to improve how the city communicates its finances in an easily accessible design. Jeff Miller and Matt Williams, who are members of Davis\\' Finance and Budget Commission, joined together with Davis entrepreneur Bob Fung to create the model plan to bring the project to the Finance and Budget Commission in February, according to Kelly Stachowicz, assistant city manager. \"City staff appreciate the efforts that have gone into this, and the interest in trying to look at the city\\'s potential financial position over the long term,\" Stachowicz said in an email interview. \"We all have a shared goal to plan for a sound fiscal future with few surprises. We believe the Project Toto effort will mesh well with our other efforts as we build the budget for the next fiscal year and beyond.\" Project Toto complements the city\\'s effort to amplify the transparency of city decisions to community members. The aim is to increase the understanding about the city\\'s financial situation and make the information more accessible and easier to understand. The project is mostly a tool for public education, but can also make predictions about potential decisions regarding the city\\'s financial future. Once completed, the program will allow residents to manipulate variables to see their eventual consequences, such as tax increases or extensions and proposed developments \"This really isn\\'t a budget, it is a forecast to see the intervention of these decisions,\" Williams said in an interview with The Davis Enterprise. \"What happens if we extend the sales tax? What does it do given the other numbers that are in?\" Project Toto enables users, whether it be a curious Davis resident, a concerned community member or a city leader, with the ability to project city finances with differing variables. The online program consists of the 400-page city budget for the 2016-2017 fiscal year, the previous budget, staff reports and consultant analyses. All of the documents are cited and accessible to the public within Project Toto. \"It\\'s a model that very easily lends itself to visual representation,\" Mayor Robb Davis said. \"You can see the impacts of decisions the council makes on the fiscal health of the city.\" Complementary to this program, there is also a more advanced version of the model with more in-depth analyses of the city\\'s finances. However, for an easy-to-understand, simplistic overview, Project Toto should be enough to help residents comprehend Davis finances. There is still more to do on the project, but its creators are hard at work trying to finalize it before the 2017-2018 fiscal year budget. \"It\\'s something I have been very much supportive of,\" Davis said. \"Transparency is not just something that I have been supportive of but something we have stated as a city council objective [ ] this fits very well with our attempt to inform the public of our challenges with our fiscal situation.\" ',\n",
       " 'title': 'Project Toto aims to address questions regarding city finances',\n",
       " 'url': 'https://theaggie.org/2017/02/14/project-toto-aims-to-address-questions-regarding-city-finances/'}"
      ]
     },
     "execution_count": 421,
     "metadata": {},
     "output_type": "execute_result"
    }
   ],
   "source": [
    "extract_content(\"https://theaggie.org/2017/02/14/project-toto-aims-to-address-questions-regarding-city-finances/\")"
   ]
  },
  {
   "cell_type": "markdown",
   "metadata": {},
   "source": [
    "### Get a data frame of 60 Campus News articles and City News"
   ]
  },
  {
   "cell_type": "code",
   "execution_count": 4,
   "metadata": {
    "collapsed": false
   },
   "outputs": [],
   "source": [
    "def datacombination(url):\n",
    "    \"\"\"combine article information from the article list\n",
    "    \n",
    "    input:\n",
    "        url: the url for article list\n",
    "        \n",
    "    output:\n",
    "        carticle: dataframe of articles information\n",
    "    \"\"\"\n",
    "    curl = [extract_url(url,i+1) for i in range(4)]\n",
    "    f = lambda x,y: x+y\n",
    "    curl = reduce(f, curl)\n",
    "    carticlelist = [extract_content(url) for url in curl]\n",
    "    carticle = pd.DataFrame(carticlelist)\n",
    "    return carticle"
   ]
  },
  {
   "cell_type": "code",
   "execution_count": 5,
   "metadata": {
    "collapsed": false
   },
   "outputs": [],
   "source": [
    "campusdata = datacombination(\"https://theaggie.org/campus/\")\n",
    "campusdata[\"category\"] = \"campus\"\n",
    "citydata = datacombination(\"https://theaggie.org/city/\")\n",
    "citydata[\"category\"] = \"city\"\n",
    "datatotal = pd.concat([campusdata,citydata],ignore_index=True)"
   ]
  },
  {
   "cell_type": "code",
   "execution_count": 425,
   "metadata": {
    "collapsed": false
   },
   "outputs": [
    {
     "data": {
      "text/html": [
       "<div>\n",
       "<table border=\"1\" class=\"dataframe\">\n",
       "  <thead>\n",
       "    <tr style=\"text-align: right;\">\n",
       "      <th></th>\n",
       "      <th>author</th>\n",
       "      <th>text</th>\n",
       "      <th>title</th>\n",
       "      <th>url</th>\n",
       "      <th>category</th>\n",
       "    </tr>\n",
       "  </thead>\n",
       "  <tbody>\n",
       "    <tr>\n",
       "      <th>0</th>\n",
       "      <td>Written by: Alyssa Vandenberg  — campus@theagg...</td>\n",
       "      <td>Six senators, new executive team elected Curre...</td>\n",
       "      <td>2017 Winter Quarter election results</td>\n",
       "      <td>https://theaggie.org/2017/02/24/2017-winter-qu...</td>\n",
       "      <td>campus</td>\n",
       "    </tr>\n",
       "    <tr>\n",
       "      <th>1</th>\n",
       "      <td>Written by: Aaron Liss and Raul Castellanos  —...</td>\n",
       "      <td>Wells Fargo faces fraud, predatory lending cha...</td>\n",
       "      <td>University of California, Davis City Council s...</td>\n",
       "      <td>https://theaggie.org/2017/02/23/university-of-...</td>\n",
       "      <td>campus</td>\n",
       "    </tr>\n",
       "    <tr>\n",
       "      <th>2</th>\n",
       "      <td>Written by: Kimia Akbari — campus@theaggie.org</td>\n",
       "      <td>Faculty, students recount personal tales of im...</td>\n",
       "      <td>Academics unite in peaceful rally against immi...</td>\n",
       "      <td>https://theaggie.org/2017/02/23/academics-unit...</td>\n",
       "      <td>campus</td>\n",
       "    </tr>\n",
       "    <tr>\n",
       "      <th>3</th>\n",
       "      <td>Written by: Kenton Goldsby — campus@theaggie.org</td>\n",
       "      <td>Opening date pushed back to May 1 Students hav...</td>\n",
       "      <td>Memorial Union to reopen Spring Quarter</td>\n",
       "      <td>https://theaggie.org/2017/02/23/memorial-union...</td>\n",
       "      <td>campus</td>\n",
       "    </tr>\n",
       "    <tr>\n",
       "      <th>4</th>\n",
       "      <td>Written by: Ivan Valenzuela — campus@theaggie.org</td>\n",
       "      <td>Veto included revision abandoning creation of ...</td>\n",
       "      <td>ASUCD President Alex Lee vetoes amendment for ...</td>\n",
       "      <td>https://theaggie.org/2017/02/23/asucd-presiden...</td>\n",
       "      <td>campus</td>\n",
       "    </tr>\n",
       "    <tr>\n",
       "      <th>5</th>\n",
       "      <td>Written by: Alyssa Vandenberg  — campus@theagg...</td>\n",
       "      <td>Shaheen's name to remain on ballot, his votes ...</td>\n",
       "      <td>Senate candidate Zaki Shaheen withdraws from race</td>\n",
       "      <td>https://theaggie.org/2017/02/22/senate-candida...</td>\n",
       "      <td>campus</td>\n",
       "    </tr>\n",
       "    <tr>\n",
       "      <th>6</th>\n",
       "      <td>Written by: Aaron Liss  — campus@theaggie.org</td>\n",
       "      <td>Students receive email warnings from UC Davis ...</td>\n",
       "      <td>UC Davis experiences several recent hate-based...</td>\n",
       "      <td>https://theaggie.org/2017/02/21/uc-davis-exper...</td>\n",
       "      <td>campus</td>\n",
       "    </tr>\n",
       "    <tr>\n",
       "      <th>7</th>\n",
       "      <td>Written by: Alyssa Vandenberg  — campus@theagg...</td>\n",
       "      <td>UC Board of Regents to vote on the appointment...</td>\n",
       "      <td>UC President selects Gary May as new UC Davis ...</td>\n",
       "      <td>https://theaggie.org/2017/02/21/uc-president-s...</td>\n",
       "      <td>campus</td>\n",
       "    </tr>\n",
       "    <tr>\n",
       "      <th>8</th>\n",
       "      <td>Written by: Jeanna Totah — campus@theaggie.org</td>\n",
       "      <td>Tighter policies require greater approval of o...</td>\n",
       "      <td>Katehi controversy prompts decline of UC admin...</td>\n",
       "      <td>https://theaggie.org/2017/02/20/katehi-controv...</td>\n",
       "      <td>campus</td>\n",
       "    </tr>\n",
       "    <tr>\n",
       "      <th>9</th>\n",
       "      <td>Written by: Ivan Valenzuela  — campus@theaggie...</td>\n",
       "      <td>SR #7 asks university to increase capacity for...</td>\n",
       "      <td>ASUCD Senate passes resolution submitting comm...</td>\n",
       "      <td>https://theaggie.org/2017/02/20/asucd-senate-p...</td>\n",
       "      <td>campus</td>\n",
       "    </tr>\n",
       "  </tbody>\n",
       "</table>\n",
       "</div>"
      ],
      "text/plain": [
       "                                              author  \\\n",
       "0  Written by: Alyssa Vandenberg  — campus@theagg...   \n",
       "1  Written by: Aaron Liss and Raul Castellanos  —...   \n",
       "2     Written by: Kimia Akbari — campus@theaggie.org   \n",
       "3   Written by: Kenton Goldsby — campus@theaggie.org   \n",
       "4  Written by: Ivan Valenzuela — campus@theaggie.org   \n",
       "5  Written by: Alyssa Vandenberg  — campus@theagg...   \n",
       "6      Written by: Aaron Liss  — campus@theaggie.org   \n",
       "7  Written by: Alyssa Vandenberg  — campus@theagg...   \n",
       "8     Written by: Jeanna Totah — campus@theaggie.org   \n",
       "9  Written by: Ivan Valenzuela  — campus@theaggie...   \n",
       "\n",
       "                                                text  \\\n",
       "0  Six senators, new executive team elected Curre...   \n",
       "1  Wells Fargo faces fraud, predatory lending cha...   \n",
       "2  Faculty, students recount personal tales of im...   \n",
       "3  Opening date pushed back to May 1 Students hav...   \n",
       "4  Veto included revision abandoning creation of ...   \n",
       "5  Shaheen's name to remain on ballot, his votes ...   \n",
       "6  Students receive email warnings from UC Davis ...   \n",
       "7  UC Board of Regents to vote on the appointment...   \n",
       "8  Tighter policies require greater approval of o...   \n",
       "9  SR #7 asks university to increase capacity for...   \n",
       "\n",
       "                                               title  \\\n",
       "0               2017 Winter Quarter election results   \n",
       "1  University of California, Davis City Council s...   \n",
       "2  Academics unite in peaceful rally against immi...   \n",
       "3            Memorial Union to reopen Spring Quarter   \n",
       "4  ASUCD President Alex Lee vetoes amendment for ...   \n",
       "5  Senate candidate Zaki Shaheen withdraws from race   \n",
       "6  UC Davis experiences several recent hate-based...   \n",
       "7  UC President selects Gary May as new UC Davis ...   \n",
       "8  Katehi controversy prompts decline of UC admin...   \n",
       "9  ASUCD Senate passes resolution submitting comm...   \n",
       "\n",
       "                                                 url category  \n",
       "0  https://theaggie.org/2017/02/24/2017-winter-qu...   campus  \n",
       "1  https://theaggie.org/2017/02/23/university-of-...   campus  \n",
       "2  https://theaggie.org/2017/02/23/academics-unit...   campus  \n",
       "3  https://theaggie.org/2017/02/23/memorial-union...   campus  \n",
       "4  https://theaggie.org/2017/02/23/asucd-presiden...   campus  \n",
       "5  https://theaggie.org/2017/02/22/senate-candida...   campus  \n",
       "6  https://theaggie.org/2017/02/21/uc-davis-exper...   campus  \n",
       "7  https://theaggie.org/2017/02/21/uc-president-s...   campus  \n",
       "8  https://theaggie.org/2017/02/20/katehi-controv...   campus  \n",
       "9  https://theaggie.org/2017/02/20/asucd-senate-p...   campus  "
      ]
     },
     "execution_count": 425,
     "metadata": {},
     "output_type": "execute_result"
    }
   ],
   "source": [
    "datatotal[:10] #the final dataframe"
   ]
  },
  {
   "cell_type": "markdown",
   "metadata": {},
   "source": [
    "\n",
    "### discussion part\n",
    "\n",
    "* What topics does the Aggie cover the most? Do city articles typically cover different topics than campus articles?\n",
    "\n",
    "* What are the titles of the top 3 pairs of most similar articles? Examine each pair of articles. What words do they have in common?\n",
    "\n",
    "* Is this corpus representative of the Aggie? What kinds of inference can this corpus support? \n"
   ]
  },
  {
   "cell_type": "code",
   "execution_count": 6,
   "metadata": {
    "collapsed": true
   },
   "outputs": [],
   "source": [
    "import numpy as np\n",
    "import nltk\n",
    "from nltk import corpus\n",
    "from nltk.stem.porter import PorterStemmer\n",
    "from sklearn.feature_extraction.text import TfidfVectorizer\n",
    "from sklearn.neighbors import NearestNeighbors\n",
    "from matplotlib import pyplot as plt\n",
    "from __future__ import division\n",
    "from nltk.corpus import stopwords\n",
    "from collections import Counter\n",
    "import string\n",
    "import unicodedata\n",
    "import sys\n",
    "plt.style.use('ggplot')"
   ]
  },
  {
   "cell_type": "code",
   "execution_count": 426,
   "metadata": {
    "collapsed": false
   },
   "outputs": [],
   "source": [
    "def text_clean(raw):\n",
    "    \"\"\"clean a text including stopwords, punctuation, and then stem\n",
    "    \n",
    "    Input:\n",
    "        raw : raw text\n",
    "        \n",
    "    Output:\n",
    "        stemwords: stemed words\n",
    "    \"\"\"\n",
    "    tbl = dict.fromkeys(i for i in xrange(sys.maxunicode)\n",
    "                      if unicodedata.category(unichr(i)).startswith('P'))\n",
    "    raw = raw.translate(tbl)\n",
    "    raw = ''.join([i for i in raw if not i.isdigit()])\n",
    "    cachedStopWords = stopwords.words(\"english\")\n",
    "    tokens = nltk.word_tokenize(raw.lower())\n",
    "    text = ' '.join([word for word in tokens if word not in cachedStopWords])\n",
    "    words = [word for word in tokens if word not in cachedStopWords]\n",
    "    porter = nltk.PorterStemmer()\n",
    "    stemwords = [porter.stem(w) for w in words]\n",
    "    return stemwords"
   ]
  },
  {
   "cell_type": "code",
   "execution_count": 314,
   "metadata": {
    "collapsed": false
   },
   "outputs": [
    {
     "data": {
      "text/plain": [
       "[u'confer',\n",
       " u'entail',\n",
       " u'full',\n",
       " u'day',\n",
       " u'speaker',\n",
       " u'panel',\n",
       " u'studentl',\n",
       " u'discuss',\n",
       " u'uc',\n",
       " u'davi',\n",
       " u'held',\n",
       " u'first',\n",
       " u'mental',\n",
       " u'health',\n",
       " u'confer',\n",
       " u'uc',\n",
       " u'davi',\n",
       " u'confer',\n",
       " u'center',\n",
       " u'pm',\n",
       " u'sunday',\n",
       " u'feb',\n",
       " u'student',\n",
       " u'particip',\n",
       " u'seri',\n",
       " u'workshop',\n",
       " u'panel',\n",
       " u'set',\n",
       " u'activ',\n",
       " u'checkin',\n",
       " u'breakfast',\n",
       " u'open',\n",
       " u'remark',\n",
       " u'given',\n",
       " u'monica',\n",
       " u'porter',\n",
       " u'attorney',\n",
       " u'disabl',\n",
       " u'right',\n",
       " u'advoc',\n",
       " u'organ',\n",
       " u'porter',\n",
       " u'spoke',\n",
       " u'briefli',\n",
       " u'experi',\n",
       " u'mental',\n",
       " u'health',\n",
       " u'express',\n",
       " u'happi',\n",
       " u'see',\n",
       " u'mani',\n",
       " u'student',\n",
       " u'particip',\n",
       " u'mental',\n",
       " u'health',\n",
       " u'confer',\n",
       " u'speak',\n",
       " u'openli',\n",
       " u'mental',\n",
       " u'ill',\n",
       " u'without',\n",
       " u'fear',\n",
       " u'stigma',\n",
       " u'first',\n",
       " u'workshop',\n",
       " u'set',\n",
       " u'offer',\n",
       " u'student',\n",
       " u'choic',\n",
       " u'workshop',\n",
       " u'grief',\n",
       " u'minor',\n",
       " u'mental',\n",
       " u'health',\n",
       " u'intersect',\n",
       " u'approach',\n",
       " u'heal',\n",
       " u'polit',\n",
       " u'activ',\n",
       " u'trump',\n",
       " u'presid',\n",
       " u'anastasia',\n",
       " u'ruttkay',\n",
       " u'fourthyear',\n",
       " u'intern',\n",
       " u'relat',\n",
       " u'major',\n",
       " u'attend',\n",
       " u'workshop',\n",
       " u'aim',\n",
       " u'way',\n",
       " u'combat',\n",
       " u'live',\n",
       " u'trump',\n",
       " u'presid',\n",
       " u'discuss',\n",
       " u'commun',\n",
       " u'margin',\n",
       " u'presid',\n",
       " u'way',\n",
       " u'activ',\n",
       " u'engag',\n",
       " u'within',\n",
       " u'commun',\n",
       " u'foster',\n",
       " u'support',\n",
       " u'make',\n",
       " u'chang',\n",
       " u'ruttkay',\n",
       " u'said',\n",
       " u'via',\n",
       " u'email',\n",
       " u'student',\n",
       " u'abl',\n",
       " u'choos',\n",
       " u'administr',\n",
       " u'panel',\n",
       " u'psychologist',\n",
       " u'panel',\n",
       " u'panel',\n",
       " u'compris',\n",
       " u'speaker',\n",
       " u'univers',\n",
       " u'colleg',\n",
       " u'repres',\n",
       " u'student',\n",
       " u'health',\n",
       " u'counsel',\n",
       " u'servicesth',\n",
       " u'psychologist',\n",
       " u'panel',\n",
       " u'speaker',\n",
       " u'spoke',\n",
       " u'career',\n",
       " u'uc',\n",
       " u'davi',\n",
       " u'gave',\n",
       " u'advic',\n",
       " u'student',\n",
       " u'consid',\n",
       " u'studi',\n",
       " u'psycholog',\n",
       " u'administr',\n",
       " u'panel',\n",
       " u'speaker',\n",
       " u'spoke',\n",
       " u'posit',\n",
       " u'uc',\n",
       " u'davi',\n",
       " u'journey',\n",
       " u'colleg',\n",
       " u'gave',\n",
       " u'advic',\n",
       " u'student',\n",
       " u'look',\n",
       " u'serv',\n",
       " u'academ',\n",
       " u'posit',\n",
       " u'futur',\n",
       " u'diana',\n",
       " u'olivan',\n",
       " u'secondyear',\n",
       " u'cognit',\n",
       " u'scienc',\n",
       " u'major',\n",
       " u'particularli',\n",
       " u'enjoy',\n",
       " u'two',\n",
       " u'panel',\n",
       " u'great',\n",
       " u'actual',\n",
       " u'abl',\n",
       " u'see',\n",
       " u'hear',\n",
       " u'experi',\n",
       " u'olivan',\n",
       " u'said',\n",
       " u'definit',\n",
       " u'help',\n",
       " u'tri',\n",
       " u'figur',\n",
       " u'career',\n",
       " u'path',\n",
       " u'next',\n",
       " u'student',\n",
       " u'broke',\n",
       " u'caucus',\n",
       " u'serv',\n",
       " u'heal',\n",
       " u'space',\n",
       " u'allow',\n",
       " u'student',\n",
       " u'share',\n",
       " u'stori',\n",
       " u'talk',\n",
       " u'openli',\n",
       " u'without',\n",
       " u'fear',\n",
       " u'judg',\n",
       " u'student',\n",
       " u'chose',\n",
       " u'go',\n",
       " u'caucu',\n",
       " u'could',\n",
       " u'identifi',\n",
       " u'neurodiverg',\n",
       " u'anyth',\n",
       " u'typic',\n",
       " u'defin',\n",
       " u'normal',\n",
       " u'other',\n",
       " u'chose',\n",
       " u'attend',\n",
       " u'one',\n",
       " u'alli',\n",
       " u'neurodiverg',\n",
       " u'peopl',\n",
       " u'olivan',\n",
       " u'attend',\n",
       " u'workshop',\n",
       " u'identifi',\n",
       " u'neurodiverg',\n",
       " u'gener',\n",
       " u'sens',\n",
       " u'neurodiverg',\n",
       " u'meant',\n",
       " u'seem',\n",
       " u'like',\n",
       " u'lot',\n",
       " u'peopl',\n",
       " u'went',\n",
       " u'interest',\n",
       " u'figur',\n",
       " u'neurodiverg',\n",
       " u'mean',\n",
       " u'olivan',\n",
       " u'said',\n",
       " u'olivan',\n",
       " u'hope',\n",
       " u'futur',\n",
       " u'workshop',\n",
       " u'use',\n",
       " u'heal',\n",
       " u'opportun',\n",
       " u'origin',\n",
       " u'intend',\n",
       " u'lunch',\n",
       " u'student',\n",
       " u'attend',\n",
       " u'second',\n",
       " u'workshop',\n",
       " u'set',\n",
       " u'chose',\n",
       " u'gender',\n",
       " u'base',\n",
       " u'violenc',\n",
       " u'mental',\n",
       " u'health',\n",
       " u'suicid',\n",
       " u'prevent',\n",
       " u'bodi',\n",
       " u'imageselflov',\n",
       " u'workshop',\n",
       " u'open',\n",
       " u'discuss',\n",
       " u'way',\n",
       " u'media',\n",
       " u'portray',\n",
       " u'standard',\n",
       " u'beauti',\n",
       " u'certain',\n",
       " u'bodyinspir',\n",
       " u'campaign',\n",
       " u'intersect',\n",
       " u'bodi',\n",
       " u'beauti',\n",
       " u'ruttkay',\n",
       " u'said',\n",
       " u'student',\n",
       " u'given',\n",
       " u'choic',\n",
       " u'attend',\n",
       " u'one',\n",
       " u'three',\n",
       " u'student',\n",
       " u'panel',\n",
       " u'student',\n",
       " u'panelist',\n",
       " u'select',\n",
       " u'onlin',\n",
       " u'applic',\n",
       " u'process',\n",
       " u'share',\n",
       " u'person',\n",
       " u'stori',\n",
       " u'struggl',\n",
       " u'mental',\n",
       " u'health',\n",
       " u'student',\n",
       " u'panel',\n",
       " u'help',\n",
       " u'ruttkay',\n",
       " u'person',\n",
       " u'understand',\n",
       " u'differ',\n",
       " u'abl',\n",
       " u'student',\n",
       " u'margin',\n",
       " u'disregard',\n",
       " u'campu',\n",
       " u'student',\n",
       " u'share',\n",
       " u'testimoni',\n",
       " u'condit',\n",
       " u'realli',\n",
       " u'struck',\n",
       " u'chord',\n",
       " u'ruttkay',\n",
       " u'said',\n",
       " u'hear',\n",
       " u'stori',\n",
       " u'raw',\n",
       " u'level',\n",
       " u'open',\n",
       " u'even',\n",
       " u'greater',\n",
       " u'sens',\n",
       " u'care',\n",
       " u'compass',\n",
       " u'mental',\n",
       " u'health',\n",
       " u'student',\n",
       " u'group',\n",
       " u'gave',\n",
       " u'perform',\n",
       " u'short',\n",
       " u'break',\n",
       " u'perform',\n",
       " u'includ',\n",
       " u'individu',\n",
       " u'student',\n",
       " u'well',\n",
       " u'student',\n",
       " u'group',\n",
       " u'unbound',\n",
       " u'progress',\n",
       " u'liquid',\n",
       " u'hotplat',\n",
       " u'bail',\n",
       " u'de',\n",
       " u'fuego',\n",
       " u'anoth',\n",
       " u'three',\n",
       " u'workshop',\n",
       " u'offer',\n",
       " u'lgbtqia',\n",
       " u'mental',\n",
       " u'health',\n",
       " u'care',\n",
       " u'support',\n",
       " u'spiritu',\n",
       " u'heal',\n",
       " u'self',\n",
       " u'care',\n",
       " u'action',\n",
       " u'plan',\n",
       " u'set',\n",
       " u'student',\n",
       " u'opportun',\n",
       " u'share',\n",
       " u'plan',\n",
       " u'futur',\n",
       " u'minor',\n",
       " u'term',\n",
       " u'support',\n",
       " u'activ',\n",
       " u'shortli',\n",
       " u'thereaft',\n",
       " u'dinner',\n",
       " u'serv',\n",
       " u'along',\n",
       " u'close',\n",
       " u'remark',\n",
       " u'juliet',\n",
       " u'forb',\n",
       " u'student',\n",
       " u'uc',\n",
       " u'davi',\n",
       " u'serv',\n",
       " u'crisi',\n",
       " u'counselor',\n",
       " u'crisi',\n",
       " u'text',\n",
       " u'line',\n",
       " u'forb',\n",
       " u'express',\n",
       " u'import',\n",
       " u'destigmat',\n",
       " u'mental',\n",
       " u'ill',\n",
       " u'support',\n",
       " u'struggl',\n",
       " u'mental',\n",
       " u'health',\n",
       " u'resourc',\n",
       " u'crisi',\n",
       " u'text',\n",
       " u'line',\n",
       " u'offer',\n",
       " u'confer',\n",
       " u'took',\n",
       " u'place',\n",
       " u'nine',\n",
       " u'month',\n",
       " u'plan',\n",
       " u'still',\n",
       " u'present',\n",
       " u'challeng',\n",
       " u'day',\n",
       " u'execut',\n",
       " u'mental',\n",
       " u'health',\n",
       " u'confer',\n",
       " u'founder',\n",
       " u'director',\n",
       " u'samantha',\n",
       " u'chiang',\n",
       " u'thirdyear',\n",
       " u'english',\n",
       " u'major',\n",
       " u'found',\n",
       " u'empow',\n",
       " u'team',\n",
       " u'abl',\n",
       " u'build',\n",
       " u'confer',\n",
       " u'ground',\n",
       " u'student',\n",
       " u'voic',\n",
       " u'forefront',\n",
       " u'biggest',\n",
       " u'challeng',\n",
       " u'work',\n",
       " u'kink',\n",
       " u'hadnt',\n",
       " u'anticip',\n",
       " u'like',\n",
       " u'wait',\n",
       " u'workshop',\n",
       " u'host',\n",
       " u'perform',\n",
       " u'come',\n",
       " u'right',\n",
       " u'design',\n",
       " u'time',\n",
       " u'chiang',\n",
       " u'said',\n",
       " u'via',\n",
       " u'email',\n",
       " u'chiang',\n",
       " u'said',\n",
       " u'confer',\n",
       " u'everyth',\n",
       " u'hope',\n",
       " u'hope',\n",
       " u'futur',\n",
       " u'secur',\n",
       " u'enough',\n",
       " u'fund',\n",
       " u'expand',\n",
       " u'twoday',\n",
       " u'confer',\n",
       " u'attende',\n",
       " u'abl',\n",
       " u'appreci',\n",
       " u'signific',\n",
       " u'confer',\n",
       " u'olivan',\n",
       " u'found',\n",
       " u'learn',\n",
       " u'mani',\n",
       " u'way',\n",
       " u'involv',\n",
       " u'commun',\n",
       " u'davi',\n",
       " u'student',\n",
       " u'resourc',\n",
       " u'help',\n",
       " u'feel',\n",
       " u'safe',\n",
       " u'realiz',\n",
       " u'alon',\n",
       " u'great',\n",
       " u'thing',\n",
       " u'confer',\n",
       " u'happen',\n",
       " u'first',\n",
       " u'place',\n",
       " u'great',\n",
       " u'step',\n",
       " u'develop',\n",
       " u'uc',\n",
       " u'davi',\n",
       " u'mental',\n",
       " u'health',\n",
       " u'advocaci',\n",
       " u'olivan',\n",
       " u'said',\n",
       " u'ruttkay',\n",
       " u'believ',\n",
       " u'confer',\n",
       " u'highlight',\n",
       " u'mani',\n",
       " u'differ',\n",
       " u'abl',\n",
       " u'condit',\n",
       " u'particip',\n",
       " u'given',\n",
       " u'opportun',\n",
       " u'particip',\n",
       " u'meaning',\n",
       " u'discuss',\n",
       " u'saw',\n",
       " u'anoth',\n",
       " u'side',\n",
       " u'mental',\n",
       " u'health',\n",
       " u'believ',\n",
       " u'extrem',\n",
       " u'neglect',\n",
       " u'univers',\n",
       " u'biggest',\n",
       " u'takeaway',\n",
       " u'confer',\n",
       " u'see',\n",
       " u'mani',\n",
       " u'student',\n",
       " u'passion',\n",
       " u'advoc',\n",
       " u'mental',\n",
       " u'health',\n",
       " u'institut',\n",
       " u'level',\n",
       " u'ruttkay',\n",
       " u'said',\n",
       " u'confer',\n",
       " u'panel',\n",
       " u'coordin',\n",
       " u'jacquelin',\n",
       " u'gradi',\n",
       " u'thirdyear',\n",
       " u'global',\n",
       " u'diseas',\n",
       " u'biolog',\n",
       " u'major',\n",
       " u'hope',\n",
       " u'expand',\n",
       " u'confer',\n",
       " u'come',\n",
       " u'year',\n",
       " u'order',\n",
       " u'continu',\n",
       " u'push',\n",
       " u'boundari',\n",
       " u'convers',\n",
       " u'mental',\n",
       " u'health',\n",
       " u'look',\n",
       " u'start',\n",
       " u'qualit',\n",
       " u'convers',\n",
       " u'mental',\n",
       " u'health',\n",
       " u'gradi',\n",
       " u'said',\n",
       " u'via',\n",
       " u'email',\n",
       " u'there',\n",
       " u'neg',\n",
       " u'stigma',\n",
       " u'surround',\n",
       " u'mental',\n",
       " u'health',\n",
       " u'want',\n",
       " u'tear',\n",
       " u'wall',\n",
       " u'confer',\n",
       " u'one',\n",
       " u'day',\n",
       " u'hope',\n",
       " u'convers',\n",
       " u'continu',\n",
       " u'beyond',\n",
       " u'goal',\n",
       " u'make',\n",
       " u'mental',\n",
       " u'health',\n",
       " u'prioriti',\n",
       " u'campu']"
      ]
     },
     "execution_count": 314,
     "metadata": {},
     "output_type": "execute_result"
    }
   ],
   "source": [
    "#results of text_clean\n",
    "text_clean(datatotal.text.ix[14])"
   ]
  },
  {
   "cell_type": "code",
   "execution_count": 427,
   "metadata": {
    "collapsed": true
   },
   "outputs": [],
   "source": [
    "stemmer = PorterStemmer().stem\n",
    "\n",
    "tokenize = nltk.word_tokenize\n",
    "\n",
    "def stem(tokens,stemmer = PorterStemmer().stem):\n",
    "    return [stemmer(w.lower()) for w in tokens] \n",
    "\n",
    "def lemmatize(text):\n",
    "    \"\"\"Extract simple lemmas based on tokenization and stemming\n",
    "    \n",
    "    Input: string\n",
    "    Output: list of strings (lemmata)\n",
    "    \"\"\"\n",
    "    tbl = dict.fromkeys(i for i in xrange(sys.maxunicode)\n",
    "                      if unicodedata.category(unichr(i)).startswith('P'))\n",
    "    text = text.translate(tbl)\n",
    "    #text = re.sub(r'[^\\w\\s]','',text)\n",
    "    text = ''.join([i for i in text if not i.isdigit()])\n",
    "    return stem(tokenize(text))"
   ]
  },
  {
   "cell_type": "code",
   "execution_count": 428,
   "metadata": {
    "collapsed": false
   },
   "outputs": [],
   "source": [
    "vectorizer = TfidfVectorizer(tokenizer=lemmatize,stop_words=\"english\",smooth_idf=True,norm=None)\n",
    "corpus = datatotal.text\n",
    "tfs = vectorizer.fit_transform(corpus)"
   ]
  },
  {
   "cell_type": "code",
   "execution_count": 429,
   "metadata": {
    "collapsed": false
   },
   "outputs": [],
   "source": [
    "index = [(-tfs[i].toarray()).argsort()[0][:20] for i in range(120)]\n",
    "keywords = [[vectorizer.get_feature_names()[i] for i in j] for j in index]"
   ]
  },
  {
   "cell_type": "code",
   "execution_count": 430,
   "metadata": {
    "collapsed": false
   },
   "outputs": [
    {
     "data": {
      "text/plain": [
       "[(u'davi', 35),\n",
       " (u'student', 34),\n",
       " (u'uc', 24),\n",
       " (u'wa', 17),\n",
       " (u'event', 14),\n",
       " (u'asucd', 12),\n",
       " (u'citi', 11),\n",
       " (u'senat', 11),\n",
       " (u'protest', 10),\n",
       " (u'said', 10),\n",
       " (u'hi', 10),\n",
       " (u'support', 8),\n",
       " (u'commun', 8),\n",
       " (u'counti', 7),\n",
       " (u'univers', 7),\n",
       " (u'polici', 7),\n",
       " (u'food', 7),\n",
       " (u'program', 7),\n",
       " (u'famili', 7),\n",
       " (u'research', 7)]"
      ]
     },
     "execution_count": 430,
     "metadata": {},
     "output_type": "execute_result"
    }
   ],
   "source": [
    "keywordframe = pd.DataFrame(keywords)\n",
    "f = lambda x,y: x+y\n",
    "rawkeywords = reduce(f, keywords)\n",
    "Counter(rawkeywords).most_common(20)"
   ]
  },
  {
   "cell_type": "markdown",
   "metadata": {},
   "source": [
    "The most common topics in the Aggie are davis, student, uc, wa and event. The rest words could be seen above: it shows the most common 20 words in the Aggie news."
   ]
  },
  {
   "cell_type": "code",
   "execution_count": 431,
   "metadata": {
    "collapsed": true
   },
   "outputs": [],
   "source": [
    "def counterkey(keywords,num):\n",
    "    rawkeywords = reduce(f,keywords)\n",
    "    counter_selected = dict(Counter(rawkeywords).most_common(num))\n",
    "    counterkey = counter_selected.keys()\n",
    "    return set(counterkey)"
   ]
  },
  {
   "cell_type": "code",
   "execution_count": 440,
   "metadata": {
    "collapsed": false
   },
   "outputs": [
    {
     "data": {
      "text/plain": [
       "{u'davi', u'event', u'student', u'wa'}"
      ]
     },
     "execution_count": 440,
     "metadata": {},
     "output_type": "execute_result"
    }
   ],
   "source": [
    "keywordscampus = keywords[:60]\n",
    "keywordscity = keywords[60:]\n",
    "counterkey(keywordscampus,20) & counterkey(keywordscity,20)"
   ]
  },
  {
   "cell_type": "markdown",
   "metadata": {},
   "source": [
    "I split the topics into campus part and city part, and it implies that there are few same words in the top 20 typical or important words between campus and city news: <strong>davis, event student</strong> and <strong>wa</strong>. So city articles basically cover different topics than campus articles."
   ]
  },
  {
   "cell_type": "code",
   "execution_count": 436,
   "metadata": {
    "collapsed": true
   },
   "outputs": [],
   "source": [
    "def keywords_graph(keywords,num=20):\n",
    "    \"\"\"organize keywords for graph \n",
    "        \n",
    "        input: \n",
    "        keywords: raw keyword data\n",
    "        num: the number of common keywords we want to extract\n",
    "        \n",
    "        output: dataframe including words and their frequency\n",
    "    \"\"\"\n",
    "    rawkeywords = reduce(f,keywords)\n",
    "    data = pd.DataFrame.from_dict(dict(Counter(rawkeywords).most_common(num)), orient='index', dtype=None)\n",
    "    data['word']=data.index\n",
    "    data.index = range(num)\n",
    "    data.columns = [\"number\",\"word\"]\n",
    "    return data"
   ]
  },
  {
   "cell_type": "code",
   "execution_count": 442,
   "metadata": {
    "collapsed": false
   },
   "outputs": [],
   "source": [
    "campus = keywords_graph(keywordscampus,20)\n",
    "city = keywords_graph(keywordscity,20)"
   ]
  },
  {
   "cell_type": "code",
   "execution_count": 444,
   "metadata": {
    "collapsed": false
   },
   "outputs": [
    {
     "data": {
      "image/png": "[encoded data removed]",
      "text/plain": [
       "<matplotlib.figure.Figure at 0x117ff4e10>"
      ]
     },
     "metadata": {},
     "output_type": "display_data"
    }
   ],
   "source": [
    "import seaborn as sns\n",
    "import matplotlib.pyplot as plt\n",
    "sns.barplot(x = \"number\",y = \"word\",data = campus)\n",
    "plt.title('Barplot of words in campus news')\n",
    "plt.xlabel(\"word's tfidf\")\n",
    "plt.show()"
   ]
  },
  {
   "cell_type": "code",
   "execution_count": 445,
   "metadata": {
    "collapsed": false,
    "scrolled": false
   },
   "outputs": [
    {
     "data": {
      "image/png": "[encoded data removed]",
      "text/plain": [
       "<matplotlib.figure.Figure at 0x114dd8910>"
      ]
     },
     "metadata": {},
     "output_type": "display_data"
    }
   ],
   "source": [
    "sns.barplot(x = \"number\",y = \"word\",data = city)\n",
    "plt.title('Barplot of words in city news')\n",
    "plt.xlabel(\"word's tfidf\")\n",
    "plt.show()"
   ]
  },
  {
   "cell_type": "markdown",
   "metadata": {},
   "source": [
    "These two barplots shows the frequency of most typical words in campus articles and city articles seperately. And the line plot below implies the common words in these two common-word dictionary. Obviously, their frenquency are quite different."
   ]
  },
  {
   "cell_type": "code",
   "execution_count": 481,
   "metadata": {
    "collapsed": false
   },
   "outputs": [
    {
     "data": {
      "image/png": "[encoded data removed]",
      "text/plain": [
       "<matplotlib.figure.Figure at 0x1172d87d0>"
      ]
     },
     "metadata": {},
     "output_type": "display_data"
    }
   ],
   "source": [
    "campus[\"category\"] = \"campus\"\n",
    "city[\"category\"] = \"city\"\n",
    "commonset = pd.concat([campus,city])\n",
    "common = pd.merge(campus,city,on = \"word\")\n",
    "sns.set_color_codes(\"muted\")\n",
    "sns.pointplot(x=\"word\",y=\"number_x\",data=common,col=\"g\",markers=[\"o\"])\n",
    "sns.pointplot(x=\"word\",y=\"number_y\",data=common,col=\"#bb3f3f\",nmarkers =[\"+\"])\n",
    "plt.show()"
   ]
  },
  {
   "cell_type": "code",
   "execution_count": 482,
   "metadata": {
    "collapsed": false
   },
   "outputs": [
    {
     "data": {
      "text/plain": [
       "array([1696,  505, 1715])"
      ]
     },
     "execution_count": 482,
     "metadata": {},
     "output_type": "execute_result"
    }
   ],
   "source": [
    "simmat = tfs.dot(tfs.T)\n",
    "simarray = simmat.toarray()\n",
    "simarray = np.triu(simarray,1)\n",
    "rankindex = simarray.argsort(axis=None)\n",
    "rankindex[-3:]"
   ]
  },
  {
   "cell_type": "code",
   "execution_count": 488,
   "metadata": {
    "collapsed": true
   },
   "outputs": [],
   "source": [
    "def xy_index(num, ncol):\n",
    "    x = num//ncol\n",
    "    y = num % ncol\n",
    "    return (x,y)"
   ]
  },
  {
   "cell_type": "code",
   "execution_count": 490,
   "metadata": {
    "collapsed": false
   },
   "outputs": [
    {
     "name": "stdout",
     "output_type": "stream",
     "text": [
      "(14, 35)\n",
      "(4, 25)\n",
      "(14, 16)\n"
     ]
    }
   ],
   "source": [
    "print xy_index(1715,120)\n",
    "print xy_index(505,120)\n",
    "print xy_index(1696,120)"
   ]
  },
  {
   "cell_type": "markdown",
   "metadata": {},
   "source": [
    "<p>By using the tfs vector straightly, we can figure out the index of top 3 pairs of most similar articles are (14, 35), (4, 25), (14, 16). But it's not quite understandable according to the result. So we use cos similarity to improve the algorithm. And the results are shown in the same way.</p>"
   ]
  },
  {
   "cell_type": "code",
   "execution_count": 483,
   "metadata": {
    "collapsed": false,
    "scrolled": true
   },
   "outputs": [
    {
     "data": {
      "text/plain": [
       "array([6178, 2918, 1715])"
      ]
     },
     "execution_count": 483,
     "metadata": {},
     "output_type": "execute_result"
    }
   ],
   "source": [
    "from sklearn.metrics.pairwise import cosine_similarity\n",
    "simarray2 = cosine_similarity(tfs)\n",
    "simarray2 = np.triu(simarray2,1)\n",
    "rankindex2 = simarray2.argsort(axis=None)\n",
    "rankindex2[-3:]"
   ]
  },
  {
   "cell_type": "code",
   "execution_count": 492,
   "metadata": {
    "collapsed": false
   },
   "outputs": [
    {
     "name": "stdout",
     "output_type": "stream",
     "text": [
      "(14, 35)\n",
      "(24, 38)\n",
      "(51, 58)\n"
     ]
    }
   ],
   "source": [
    "print xy_index(1715,120)\n",
    "print xy_index(2918,120)\n",
    "print xy_index(6178,120)"
   ]
  },
  {
   "cell_type": "markdown",
   "metadata": {},
   "source": [
    "<p>So the top 3 pairs of most similar articles are:</p>\n",
    "1.  UC Davis holds first mental health conference <br /> UC Davis to host first ever mental health conference\n",
    "2.  Davis College Republicans club leads protest against cancellation of Milo Yiannopoulos event <br />  Protests erupt at Milo Yiannopoulos event\n",
    "3.  University of California Regents meet, approve first tuition raise in six years <br />  UC Regents vote to raise tuition for UC campuses\n",
    "\n",
    "And the common words between them are listed in the result of function \"compare\"."
   ]
  },
  {
   "cell_type": "code",
   "execution_count": 521,
   "metadata": {
    "collapsed": true
   },
   "outputs": [],
   "source": [
    "def compare(id1,id2,tfs):\n",
    "    title1 = datatotal.title[id1]\n",
    "    title2 = datatotal.title[id2]\n",
    "    #another type to find common words\n",
    "    #words1 = set(text_clean(datatotal.text.ix[id1]))\n",
    "    #words2 = set(text_clean(datatotal.text.ix[id2]))\n",
    "    #commonwords = words1 & words2\n",
    "    array1 = tfs.toarray()[id1]* tfs.toarray()[id2]\n",
    "    length_words = len([i for i in array1 if i!=0.0])\n",
    "    index = array1.argsort()[-length_words:]\n",
    "    commonwords2 = [vectorizer.get_feature_names()[i] for i in index ]\n",
    "    return {\"title1\":title1,\"title2\":title2,\"common words\":commonwords2}"
   ]
  },
  {
   "cell_type": "code",
   "execution_count": 536,
   "metadata": {
    "collapsed": false
   },
   "outputs": [
    {
     "data": {
      "text/html": [
       "<div>\n",
       "<table border=\"1\" class=\"dataframe\">\n",
       "  <thead>\n",
       "    <tr style=\"text-align: right;\">\n",
       "      <th></th>\n",
       "      <th>common words</th>\n",
       "      <th>title1</th>\n",
       "      <th>title2</th>\n",
       "    </tr>\n",
       "  </thead>\n",
       "  <tbody>\n",
       "    <tr>\n",
       "      <th>0</th>\n",
       "      <td>[thi, use, center, involv, feb, month, come, s...</td>\n",
       "      <td>UC Davis holds first mental health conference</td>\n",
       "      <td>UC Davis to host first ever mental health conf...</td>\n",
       "    </tr>\n",
       "    <tr>\n",
       "      <th>1</th>\n",
       "      <td>[jan, sinc, servic, place, new, presid, wa, as...</td>\n",
       "      <td>University of California Regents meet, approve...</td>\n",
       "      <td>UC Regents vote to raise tuition for UC campuses</td>\n",
       "    </tr>\n",
       "    <tr>\n",
       "      <th>2</th>\n",
       "      <td>[thi, major, student, local, veri, feel, howev...</td>\n",
       "      <td>Protests erupt at Milo Yiannopoulos event</td>\n",
       "      <td>Davis College Republicans club leads protest a...</td>\n",
       "    </tr>\n",
       "  </tbody>\n",
       "</table>\n",
       "</div>"
      ],
      "text/plain": [
       "                                        common words  \\\n",
       "0  [thi, use, center, involv, feb, month, come, s...   \n",
       "1  [jan, sinc, servic, place, new, presid, wa, as...   \n",
       "2  [thi, major, student, local, veri, feel, howev...   \n",
       "\n",
       "                                              title1  \\\n",
       "0      UC Davis holds first mental health conference   \n",
       "1  University of California Regents meet, approve...   \n",
       "2          Protests erupt at Milo Yiannopoulos event   \n",
       "\n",
       "                                              title2  \n",
       "0  UC Davis to host first ever mental health conf...  \n",
       "1   UC Regents vote to raise tuition for UC campuses  \n",
       "2  Davis College Republicans club leads protest a...  "
      ]
     },
     "execution_count": 536,
     "metadata": {},
     "output_type": "execute_result"
    }
   ],
   "source": [
    "articlepair1 = compare(14,35,tfs)\n",
    "articlepair2 = compare(24,38,tfs)\n",
    "articlepair3 = compare(51,58,tfs)\n",
    "articlepair1\n",
    "pd.DataFrame([articlepair1,articlepair2,articlepair3])"
   ]
  },
  {
   "cell_type": "markdown",
   "metadata": {},
   "source": [
    "\n",
    "<p> Basically, I believe that this corpus is representative. Because when we see the most common topics, they are all about student events in UCDavis and daily life in davis. And our conclusions based on this corpus fit the common sense and basic information we know about the Aggie. This corpus is gotten according to the latest articles post online, so it's useful for fully understand of the development in davis and the futhur study of the Aggie articles.</p>\n",
    "<p>Besides from the results we already know, this corpus can be used for the check of the category of some articles, if we don't know where to put the article online. And we may use it to correct spelling if we use tokens rather than lemmatized words. Obivously, we can use it to inference some events which will happen in the near future.</p>"
   ]
  }
 ],
 "metadata": {
  "anaconda-cloud": {},
  "kernelspec": {
   "display_name": "Python [default]",
   "language": "python",
   "name": "python2"
  },
  "language_info": {
   "codemirror_mode": {
    "name": "ipython",
    "version": 2
   },
   "file_extension": ".py",
   "mimetype": "text/x-python",
   "name": "python",
   "nbconvert_exporter": "python",
   "pygments_lexer": "ipython2",
   "version": "2.7.12"
  }
 },
 "nbformat": 4,
 "nbformat_minor": 2
}
